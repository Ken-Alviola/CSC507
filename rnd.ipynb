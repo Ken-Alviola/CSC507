{
 "cells": [
  {
   "cell_type": "code",
   "execution_count": 1,
   "id": "5d5422b1",
   "metadata": {},
   "outputs": [
    {
     "name": "stdout",
     "output_type": "stream",
     "text": [
      "Help on function open in module io:\n",
      "\n",
      "open(file, mode='r', buffering=-1, encoding=None, errors=None, newline=None, closefd=True, opener=None)\n",
      "    Open file and return a stream.  Raise OSError upon failure.\n",
      "    \n",
      "    file is either a text or byte string giving the name (and the path\n",
      "    if the file isn't in the current working directory) of the file to\n",
      "    be opened or an integer file descriptor of the file to be\n",
      "    wrapped. (If a file descriptor is given, it is closed when the\n",
      "    returned I/O object is closed, unless closefd is set to False.)\n",
      "    \n",
      "    mode is an optional string that specifies the mode in which the file\n",
      "    is opened. It defaults to 'r' which means open for reading in text\n",
      "    mode.  Other common values are 'w' for writing (truncating the file if\n",
      "    it already exists), 'x' for creating and writing to a new file, and\n",
      "    'a' for appending (which on some Unix systems, means that all writes\n",
      "    append to the end of the file regardless of the current seek position).\n",
      "    In text mode, if encoding is not specified the encoding used is platform\n",
      "    dependent: locale.getpreferredencoding(False) is called to get the\n",
      "    current locale encoding. (For reading and writing raw bytes use binary\n",
      "    mode and leave encoding unspecified.) The available modes are:\n",
      "    \n",
      "    ========= ===============================================================\n",
      "    Character Meaning\n",
      "    --------- ---------------------------------------------------------------\n",
      "    'r'       open for reading (default)\n",
      "    'w'       open for writing, truncating the file first\n",
      "    'x'       create a new file and open it for writing\n",
      "    'a'       open for writing, appending to the end of the file if it exists\n",
      "    'b'       binary mode\n",
      "    't'       text mode (default)\n",
      "    '+'       open a disk file for updating (reading and writing)\n",
      "    'U'       universal newline mode (deprecated)\n",
      "    ========= ===============================================================\n",
      "    \n",
      "    The default mode is 'rt' (open for reading text). For binary random\n",
      "    access, the mode 'w+b' opens and truncates the file to 0 bytes, while\n",
      "    'r+b' opens the file without truncation. The 'x' mode implies 'w' and\n",
      "    raises an `FileExistsError` if the file already exists.\n",
      "    \n",
      "    Python distinguishes between files opened in binary and text modes,\n",
      "    even when the underlying operating system doesn't. Files opened in\n",
      "    binary mode (appending 'b' to the mode argument) return contents as\n",
      "    bytes objects without any decoding. In text mode (the default, or when\n",
      "    't' is appended to the mode argument), the contents of the file are\n",
      "    returned as strings, the bytes having been first decoded using a\n",
      "    platform-dependent encoding or using the specified encoding if given.\n",
      "    \n",
      "    'U' mode is deprecated and will raise an exception in future versions\n",
      "    of Python.  It has no effect in Python 3.  Use newline to control\n",
      "    universal newlines mode.\n",
      "    \n",
      "    buffering is an optional integer used to set the buffering policy.\n",
      "    Pass 0 to switch buffering off (only allowed in binary mode), 1 to select\n",
      "    line buffering (only usable in text mode), and an integer > 1 to indicate\n",
      "    the size of a fixed-size chunk buffer.  When no buffering argument is\n",
      "    given, the default buffering policy works as follows:\n",
      "    \n",
      "    * Binary files are buffered in fixed-size chunks; the size of the buffer\n",
      "      is chosen using a heuristic trying to determine the underlying device's\n",
      "      \"block size\" and falling back on `io.DEFAULT_BUFFER_SIZE`.\n",
      "      On many systems, the buffer will typically be 4096 or 8192 bytes long.\n",
      "    \n",
      "    * \"Interactive\" text files (files for which isatty() returns True)\n",
      "      use line buffering.  Other text files use the policy described above\n",
      "      for binary files.\n",
      "    \n",
      "    encoding is the name of the encoding used to decode or encode the\n",
      "    file. This should only be used in text mode. The default encoding is\n",
      "    platform dependent, but any encoding supported by Python can be\n",
      "    passed.  See the codecs module for the list of supported encodings.\n",
      "    \n",
      "    errors is an optional string that specifies how encoding errors are to\n",
      "    be handled---this argument should not be used in binary mode. Pass\n",
      "    'strict' to raise a ValueError exception if there is an encoding error\n",
      "    (the default of None has the same effect), or pass 'ignore' to ignore\n",
      "    errors. (Note that ignoring encoding errors can lead to data loss.)\n",
      "    See the documentation for codecs.register or run 'help(codecs.Codec)'\n",
      "    for a list of the permitted encoding error strings.\n",
      "    \n",
      "    newline controls how universal newlines works (it only applies to text\n",
      "    mode). It can be None, '', '\\n', '\\r', and '\\r\\n'.  It works as\n",
      "    follows:\n",
      "    \n",
      "    * On input, if newline is None, universal newlines mode is\n",
      "      enabled. Lines in the input can end in '\\n', '\\r', or '\\r\\n', and\n",
      "      these are translated into '\\n' before being returned to the\n",
      "      caller. If it is '', universal newline mode is enabled, but line\n",
      "      endings are returned to the caller untranslated. If it has any of\n",
      "      the other legal values, input lines are only terminated by the given\n",
      "      string, and the line ending is returned to the caller untranslated.\n",
      "    \n",
      "    * On output, if newline is None, any '\\n' characters written are\n",
      "      translated to the system default line separator, os.linesep. If\n",
      "      newline is '' or '\\n', no translation takes place. If newline is any\n",
      "      of the other legal values, any '\\n' characters written are translated\n",
      "      to the given string.\n",
      "    \n",
      "    If closefd is False, the underlying file descriptor will be kept open\n",
      "    when the file is closed. This does not work when a file name is given\n",
      "    and must be True in that case.\n",
      "    \n",
      "    A custom opener can be used by passing a callable as *opener*. The\n",
      "    underlying file descriptor for the file object is then obtained by\n",
      "    calling *opener* with (*file*, *flags*). *opener* must return an open\n",
      "    file descriptor (passing os.open as *opener* results in functionality\n",
      "    similar to passing None).\n",
      "    \n",
      "    open() returns a file object whose type depends on the mode, and\n",
      "    through which the standard file operations such as reading and writing\n",
      "    are performed. When open() is used to open a file in a text mode ('w',\n",
      "    'r', 'wt', 'rt', etc.), it returns a TextIOWrapper. When used to open\n",
      "    a file in a binary mode, the returned class varies: in read binary\n",
      "    mode, it returns a BufferedReader; in write binary and append binary\n",
      "    modes, it returns a BufferedWriter, and in read/write mode, it returns\n",
      "    a BufferedRandom.\n",
      "    \n",
      "    It is also possible to use a string or bytearray as a file for both\n",
      "    reading and writing. For strings StringIO can be used like a file\n",
      "    opened in a text mode, and for bytes a BytesIO can be used like a file\n",
      "    opened in a binary mode.\n",
      "\n"
     ]
    }
   ],
   "source": [
    "help (open)"
   ]
  },
  {
   "cell_type": "code",
   "execution_count": 2,
   "id": "195d71d1",
   "metadata": {},
   "outputs": [],
   "source": [
    "import random"
   ]
  },
  {
   "cell_type": "code",
   "execution_count": 31,
   "id": "efb075a7",
   "metadata": {},
   "outputs": [],
   "source": [
    "count = 0\n",
    "file = open(\"file2.txt\", \"w\")"
   ]
  },
  {
   "cell_type": "code",
   "execution_count": 7,
   "id": "faaced24",
   "metadata": {},
   "outputs": [
    {
     "name": "stdout",
     "output_type": "stream",
     "text": [
      "Help on method randint in module random:\n",
      "\n",
      "randint(a, b) method of random.Random instance\n",
      "    Return random integer in range [a, b], including both end points.\n",
      "\n"
     ]
    }
   ],
   "source": [
    "help (random.randint)"
   ]
  },
  {
   "cell_type": "code",
   "execution_count": 18,
   "id": "f9c62d1c",
   "metadata": {},
   "outputs": [
    {
     "data": {
      "text/plain": [
       "677926"
      ]
     },
     "execution_count": 18,
     "metadata": {},
     "output_type": "execute_result"
    }
   ],
   "source": [
    "random.randint(0,1_000_000)"
   ]
  },
  {
   "cell_type": "code",
   "execution_count": 32,
   "id": "7e8b1f10",
   "metadata": {},
   "outputs": [],
   "source": [
    "while count <= 999:\n",
    "    file.write(str(random.randint(0,1_000_000)))\n",
    "    print(\"\",file=file)\n",
    "    count += 1\n",
    "file.close()"
   ]
  },
  {
   "cell_type": "code",
   "execution_count": 34,
   "id": "35e1ded4",
   "metadata": {},
   "outputs": [],
   "source": [
    "def file2_write():\n",
    "    \"creates file2.txt and writes 1000 integers on a new line\"\n",
    "    \n",
    "    count = 0\n",
    "    file = open(\"file2.txt\", \"w\")\n",
    "    \n",
    "    while count <= 999999:\n",
    "        file.write(str(random.randint(0,1_000_000)))\n",
    "        print(\"\",file=file)\n",
    "        count += 1\n",
    "        \n",
    "    file.close()"
   ]
  },
  {
   "cell_type": "code",
   "execution_count": 1,
   "id": "b491ed85",
   "metadata": {},
   "outputs": [],
   "source": [
    "from rnd_text import file2_write"
   ]
  },
  {
   "cell_type": "code",
   "execution_count": 4,
   "id": "d591b98d",
   "metadata": {},
   "outputs": [],
   "source": [
    "file2_write()"
   ]
  },
  {
   "cell_type": "code",
   "execution_count": 23,
   "id": "044ef641",
   "metadata": {},
   "outputs": [],
   "source": [
    "import time"
   ]
  },
  {
   "cell_type": "code",
   "execution_count": 7,
   "id": "fa2dadd4",
   "metadata": {},
   "outputs": [
    {
     "name": "stdout",
     "output_type": "stream",
     "text": [
      "--- 1.772 seconds ---\n"
     ]
    }
   ],
   "source": [
    "start_time = time.time()\n",
    "file2_write()\n",
    "print(\"--- %s seconds execution time ---\" % round((time.time()- start_time),3))"
   ]
  },
  {
   "cell_type": "code",
   "execution_count": 21,
   "id": "fcf77ce2",
   "metadata": {},
   "outputs": [],
   "source": [
    "import datetime"
   ]
  },
  {
   "cell_type": "code",
   "execution_count": 18,
   "id": "d78d8493",
   "metadata": {},
   "outputs": [],
   "source": [
    "current_time = datetime.datetime.now()"
   ]
  },
  {
   "cell_type": "code",
   "execution_count": 20,
   "id": "314db43f",
   "metadata": {},
   "outputs": [
    {
     "name": "stdout",
     "output_type": "stream",
     "text": [
      "2022-12-30 16:17:59.893711\n"
     ]
    }
   ],
   "source": [
    "print(current_time)"
   ]
  },
  {
   "cell_type": "code",
   "execution_count": 23,
   "id": "39be55d2",
   "metadata": {},
   "outputs": [],
   "source": [
    "def timed_file2_write():\n",
    "    current_time = datetime.datetime.now()\n",
    "    print(f'Start time: {current_time}')\n",
    "    \n",
    "    start_time = time.time()\n",
    "    \n",
    "    file2_write()\n",
    "    \n",
    "    current_time = datetime.datetime.now()\n",
    "    print(f'End time: {current_time}')\n",
    "    print(\"--- %s seconds execution time ---\" % round((time.time()- start_time),3))\n",
    "    "
   ]
  },
  {
   "cell_type": "code",
   "execution_count": 8,
   "id": "3ab8b508",
   "metadata": {},
   "outputs": [
    {
     "name": "stdout",
     "output_type": "stream",
     "text": [
      "Start time: 2023-01-04 17:21:15.436474\n",
      "End time: 2023-01-04 17:21:17.031321\n",
      "--- 1.595 seconds execution time ---\n"
     ]
    }
   ],
   "source": [
    "timed_file2_write()"
   ]
  },
  {
   "cell_type": "code",
   "execution_count": 1,
   "id": "2f217ec2",
   "metadata": {},
   "outputs": [],
   "source": [
    "from rnd_text import timed_file2_write"
   ]
  },
  {
   "cell_type": "code",
   "execution_count": 9,
   "id": "10a71fa1",
   "metadata": {},
   "outputs": [
    {
     "name": "stdout",
     "output_type": "stream",
     "text": [
      "Start time: 2023-01-04 17:21:19.754053\n",
      "End time: 2023-01-04 17:21:21.322660\n",
      "--- 1.569 seconds execution time ---\n"
     ]
    }
   ],
   "source": [
    "timed_file2_write()"
   ]
  },
  {
   "cell_type": "code",
   "execution_count": 1,
   "id": "4f2a2873",
   "metadata": {},
   "outputs": [],
   "source": [
    "import pandas as pd"
   ]
  },
  {
   "cell_type": "code",
   "execution_count": 2,
   "id": "15f04f18",
   "metadata": {},
   "outputs": [],
   "source": [
    "df = pd.read_csv(\"file2.txt\", sep=\" \", header=None)"
   ]
  },
  {
   "cell_type": "code",
   "execution_count": 7,
   "id": "2d4fa34d",
   "metadata": {},
   "outputs": [
    {
     "data": {
      "text/plain": [
       "0          142142\n",
       "1           22692\n",
       "2          330118\n",
       "3         1432644\n",
       "4          643946\n",
       "           ...   \n",
       "999995    1335636\n",
       "999996    1438280\n",
       "999997     998680\n",
       "999998    1389684\n",
       "999999    1915228\n",
       "Name: 0, Length: 1000000, dtype: int64"
      ]
     },
     "execution_count": 7,
     "metadata": {},
     "output_type": "execute_result"
    }
   ],
   "source": [
    "df[0] * 2"
   ]
  },
  {
   "cell_type": "code",
   "execution_count": 9,
   "id": "cabebf57",
   "metadata": {},
   "outputs": [],
   "source": [
    "double_df = df * 2"
   ]
  },
  {
   "cell_type": "code",
   "execution_count": 10,
   "id": "4d3600a6",
   "metadata": {},
   "outputs": [
    {
     "data": {
      "text/html": [
       "<div>\n",
       "<style scoped>\n",
       "    .dataframe tbody tr th:only-of-type {\n",
       "        vertical-align: middle;\n",
       "    }\n",
       "\n",
       "    .dataframe tbody tr th {\n",
       "        vertical-align: top;\n",
       "    }\n",
       "\n",
       "    .dataframe thead th {\n",
       "        text-align: right;\n",
       "    }\n",
       "</style>\n",
       "<table border=\"1\" class=\"dataframe\">\n",
       "  <thead>\n",
       "    <tr style=\"text-align: right;\">\n",
       "      <th></th>\n",
       "      <th>0</th>\n",
       "    </tr>\n",
       "  </thead>\n",
       "  <tbody>\n",
       "    <tr>\n",
       "      <th>0</th>\n",
       "      <td>142142</td>\n",
       "    </tr>\n",
       "    <tr>\n",
       "      <th>1</th>\n",
       "      <td>22692</td>\n",
       "    </tr>\n",
       "    <tr>\n",
       "      <th>2</th>\n",
       "      <td>330118</td>\n",
       "    </tr>\n",
       "    <tr>\n",
       "      <th>3</th>\n",
       "      <td>1432644</td>\n",
       "    </tr>\n",
       "    <tr>\n",
       "      <th>4</th>\n",
       "      <td>643946</td>\n",
       "    </tr>\n",
       "    <tr>\n",
       "      <th>...</th>\n",
       "      <td>...</td>\n",
       "    </tr>\n",
       "    <tr>\n",
       "      <th>999995</th>\n",
       "      <td>1335636</td>\n",
       "    </tr>\n",
       "    <tr>\n",
       "      <th>999996</th>\n",
       "      <td>1438280</td>\n",
       "    </tr>\n",
       "    <tr>\n",
       "      <th>999997</th>\n",
       "      <td>998680</td>\n",
       "    </tr>\n",
       "    <tr>\n",
       "      <th>999998</th>\n",
       "      <td>1389684</td>\n",
       "    </tr>\n",
       "    <tr>\n",
       "      <th>999999</th>\n",
       "      <td>1915228</td>\n",
       "    </tr>\n",
       "  </tbody>\n",
       "</table>\n",
       "<p>1000000 rows × 1 columns</p>\n",
       "</div>"
      ],
      "text/plain": [
       "              0\n",
       "0        142142\n",
       "1         22692\n",
       "2        330118\n",
       "3       1432644\n",
       "4        643946\n",
       "...         ...\n",
       "999995  1335636\n",
       "999996  1438280\n",
       "999997   998680\n",
       "999998  1389684\n",
       "999999  1915228\n",
       "\n",
       "[1000000 rows x 1 columns]"
      ]
     },
     "execution_count": 10,
     "metadata": {},
     "output_type": "execute_result"
    }
   ],
   "source": [
    "double_df"
   ]
  },
  {
   "cell_type": "code",
   "execution_count": 15,
   "id": "4ae97926",
   "metadata": {},
   "outputs": [],
   "source": [
    "double_df[0].to_csv(\"newfile1_pandas.txt\", index = False, header= None)"
   ]
  },
  {
   "cell_type": "code",
   "execution_count": 16,
   "id": "9b479041",
   "metadata": {},
   "outputs": [],
   "source": [
    "def pandas_newfile1():\n",
    "    current_time = datetime.datetime.now()\n",
    "    print(f'Start time: {current_time}')\n",
    "    \n",
    "    start_time = time.time()\n",
    "    \n",
    "    df = pd.read_csv(\"file1.txt\", sep=\" \", header=None)\n",
    "    double_df = df * 2\n",
    "    double_df[0].to_csv(\"newfile1_pandas.txt\", index = False, header= None)\n",
    "    \n",
    "    current_time = datetime.datetime.now()\n",
    "    print(f'End time: {current_time}')\n",
    "    print(\"--- %s seconds execution time ---\" % round((time.time()- start_time),3))"
   ]
  },
  {
   "cell_type": "code",
   "execution_count": 17,
   "id": "b10c8e82",
   "metadata": {},
   "outputs": [],
   "source": [
    "from rnd_text import pandas_newfile1"
   ]
  },
  {
   "cell_type": "code",
   "execution_count": 18,
   "id": "1af6d3a9",
   "metadata": {},
   "outputs": [
    {
     "name": "stdout",
     "output_type": "stream",
     "text": [
      "Start time: 2023-01-11 14:38:38.864236\n",
      "End time: 2023-01-11 14:38:39.752297\n",
      "--- 0.888 seconds execution time ---\n"
     ]
    }
   ],
   "source": [
    "pandas_newfile1()"
   ]
  },
  {
   "cell_type": "code",
   "execution_count": null,
   "id": "555b7ec6",
   "metadata": {},
   "outputs": [],
   "source": [
    "def line_by_line_newfile1():\n",
    "    '''CSC507 Milestone 4. Reads file1.txt line by line, multiplies each line by 2, and outputs to new text file'''\n",
    "    \n",
    "    current_time = datetime.datetime.now()\n",
    "    print(f'Start time: {current_time}')\n",
    "    \n",
    "    start_time = time.time()\n",
    "    \n",
    "    count = 0\n",
    "    file = open(\"file1.txt\", \"r\")\n",
    "    newfile = open(\"newfile1_lines.txt\", \"w\")\n",
    "    \n",
    "    for line in file:\n",
    "        line = int(line) * 2\n",
    "        newfile.write(str(line))\n",
    "        print(\"\",file=newfile)\n",
    "        \n",
    "    file.close()\n",
    "    newfile.close()\n",
    "    \n",
    "    current_time = datetime.datetime.now()\n",
    "    print(f'End time: {current_time}')\n",
    "    print(\"--- %s seconds execution time ---\" % round((time.time()- start_time),3))"
   ]
  },
  {
   "cell_type": "code",
   "execution_count": 43,
   "id": "4f033a6c",
   "metadata": {},
   "outputs": [
    {
     "name": "stdout",
     "output_type": "stream",
     "text": [
      "Start time: 2023-01-11 15:05:57.260091\n",
      "End time: 2023-01-11 15:05:58.087489\n",
      "--- 0.828 seconds execution time ---\n"
     ]
    }
   ],
   "source": [
    "line_by_line_newfile1()"
   ]
  },
  {
   "cell_type": "code",
   "execution_count": 1,
   "id": "3cc0df98",
   "metadata": {},
   "outputs": [],
   "source": [
    "from rnd_text import line_by_line_newfile1"
   ]
  },
  {
   "cell_type": "code",
   "execution_count": 2,
   "id": "f0505b62",
   "metadata": {},
   "outputs": [
    {
     "name": "stdout",
     "output_type": "stream",
     "text": [
      "Start time: 2023-01-11 15:08:43.347727\n",
      "End time: 2023-01-11 15:08:44.107066\n",
      "--- 0.759 seconds execution time ---\n"
     ]
    }
   ],
   "source": [
    "line_by_line_newfile1()"
   ]
  },
  {
   "cell_type": "code",
   "execution_count": 7,
   "id": "b4d3d18d",
   "metadata": {},
   "outputs": [],
   "source": [
    "def split_newfile1():\n",
    "    '''CSC507 Milestone 4. Splits file1.txt into 2, creates dataframes for each,\n",
    "    multiplies each line by 2, and outputs to new text file. 2nd half of file is appended'''\n",
    "    \n",
    "    current_time = datetime.datetime.now()\n",
    "    print(f'Start time: {current_time}')\n",
    "    \n",
    "    start_time = time.time()\n",
    "    \n",
    "    split()\n",
    "    \n",
    "    df1 = pd.read_csv(\"small_file_500000.txt\", sep=\" \", header=None)\n",
    "    double_df1 = df1 * 2\n",
    "    double_df1[0].to_csv(\"newfile1_split.txt\", index = False, header= None)\n",
    "    \n",
    "    df2 = pd.read_csv(\"small_file_1000000.txt\", sep=\" \", header=None)\n",
    "    double_df2 = df2 * 2\n",
    "    double_df2[0].to_csv(\"newfile1_split.txt\", mode = 'a', index = False, header= None)\n",
    "    \n",
    "    current_time = datetime.datetime.now()\n",
    "    print(f'End time: {current_time}')\n",
    "    print(\"--- %s seconds execution time ---\" % round((time.time()- start_time),3))"
   ]
  },
  {
   "cell_type": "code",
   "execution_count": 8,
   "id": "7e0ccb86",
   "metadata": {},
   "outputs": [],
   "source": [
    "def split():\n",
    "    lines_per_file = 500000\n",
    "    smallfile = None\n",
    "    with open('file1.txt') as bigfile:\n",
    "        for lineno, line in enumerate(bigfile):\n",
    "            if lineno % lines_per_file == 0:\n",
    "                if smallfile:\n",
    "                    smallfile.close()\n",
    "                small_filename = 'small_file_{}.txt'.format(lineno + lines_per_file)\n",
    "                smallfile = open(small_filename, \"w\")\n",
    "            smallfile.write(line)\n",
    "        if smallfile:\n",
    "            smallfile.close()"
   ]
  },
  {
   "cell_type": "code",
   "execution_count": 3,
   "id": "6b784c3b",
   "metadata": {},
   "outputs": [],
   "source": [
    "from rnd_text import pandas_newfile1, line_by_line_newfile1, split_newfile1"
   ]
  },
  {
   "cell_type": "code",
   "execution_count": 7,
   "id": "482dd7fd",
   "metadata": {},
   "outputs": [
    {
     "name": "stdout",
     "output_type": "stream",
     "text": [
      "Start time: 2023-01-11 15:47:15.464450\n",
      "End time: 2023-01-11 15:47:16.407194\n",
      "--- 0.943 seconds execution time ---\n"
     ]
    }
   ],
   "source": [
    "pandas_newfile1()"
   ]
  },
  {
   "cell_type": "code",
   "execution_count": 8,
   "id": "091430ea",
   "metadata": {},
   "outputs": [
    {
     "name": "stdout",
     "output_type": "stream",
     "text": [
      "Start time: 2023-01-11 15:47:17.489003\n",
      "End time: 2023-01-11 15:47:18.255249\n",
      "--- 0.765 seconds execution time ---\n"
     ]
    }
   ],
   "source": [
    "line_by_line_newfile1()"
   ]
  },
  {
   "cell_type": "code",
   "execution_count": 9,
   "id": "3ff6188b",
   "metadata": {},
   "outputs": [
    {
     "name": "stdout",
     "output_type": "stream",
     "text": [
      "Start time: 2023-01-11 15:47:18.809535\n",
      "End time: 2023-01-11 15:47:19.935228\n",
      "--- 1.126 seconds execution time ---\n"
     ]
    }
   ],
   "source": [
    "split_newfile1()"
   ]
  },
  {
   "cell_type": "code",
   "execution_count": null,
   "id": "0dccf21a",
   "metadata": {},
   "outputs": [],
   "source": []
  }
 ],
 "metadata": {
  "kernelspec": {
   "display_name": "Python 3 (ipykernel)",
   "language": "python",
   "name": "python3"
  },
  "language_info": {
   "codemirror_mode": {
    "name": "ipython",
    "version": 3
   },
   "file_extension": ".py",
   "mimetype": "text/x-python",
   "name": "python",
   "nbconvert_exporter": "python",
   "pygments_lexer": "ipython3",
   "version": "3.10.6"
  }
 },
 "nbformat": 4,
 "nbformat_minor": 5
}
