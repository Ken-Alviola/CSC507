{
 "cells": [
  {
   "cell_type": "code",
   "execution_count": 1,
   "id": "5d5422b1",
   "metadata": {},
   "outputs": [
    {
     "name": "stdout",
     "output_type": "stream",
     "text": [
      "Help on function open in module io:\n",
      "\n",
      "open(file, mode='r', buffering=-1, encoding=None, errors=None, newline=None, closefd=True, opener=None)\n",
      "    Open file and return a stream.  Raise OSError upon failure.\n",
      "    \n",
      "    file is either a text or byte string giving the name (and the path\n",
      "    if the file isn't in the current working directory) of the file to\n",
      "    be opened or an integer file descriptor of the file to be\n",
      "    wrapped. (If a file descriptor is given, it is closed when the\n",
      "    returned I/O object is closed, unless closefd is set to False.)\n",
      "    \n",
      "    mode is an optional string that specifies the mode in which the file\n",
      "    is opened. It defaults to 'r' which means open for reading in text\n",
      "    mode.  Other common values are 'w' for writing (truncating the file if\n",
      "    it already exists), 'x' for creating and writing to a new file, and\n",
      "    'a' for appending (which on some Unix systems, means that all writes\n",
      "    append to the end of the file regardless of the current seek position).\n",
      "    In text mode, if encoding is not specified the encoding used is platform\n",
      "    dependent: locale.getpreferredencoding(False) is called to get the\n",
      "    current locale encoding. (For reading and writing raw bytes use binary\n",
      "    mode and leave encoding unspecified.) The available modes are:\n",
      "    \n",
      "    ========= ===============================================================\n",
      "    Character Meaning\n",
      "    --------- ---------------------------------------------------------------\n",
      "    'r'       open for reading (default)\n",
      "    'w'       open for writing, truncating the file first\n",
      "    'x'       create a new file and open it for writing\n",
      "    'a'       open for writing, appending to the end of the file if it exists\n",
      "    'b'       binary mode\n",
      "    't'       text mode (default)\n",
      "    '+'       open a disk file for updating (reading and writing)\n",
      "    'U'       universal newline mode (deprecated)\n",
      "    ========= ===============================================================\n",
      "    \n",
      "    The default mode is 'rt' (open for reading text). For binary random\n",
      "    access, the mode 'w+b' opens and truncates the file to 0 bytes, while\n",
      "    'r+b' opens the file without truncation. The 'x' mode implies 'w' and\n",
      "    raises an `FileExistsError` if the file already exists.\n",
      "    \n",
      "    Python distinguishes between files opened in binary and text modes,\n",
      "    even when the underlying operating system doesn't. Files opened in\n",
      "    binary mode (appending 'b' to the mode argument) return contents as\n",
      "    bytes objects without any decoding. In text mode (the default, or when\n",
      "    't' is appended to the mode argument), the contents of the file are\n",
      "    returned as strings, the bytes having been first decoded using a\n",
      "    platform-dependent encoding or using the specified encoding if given.\n",
      "    \n",
      "    'U' mode is deprecated and will raise an exception in future versions\n",
      "    of Python.  It has no effect in Python 3.  Use newline to control\n",
      "    universal newlines mode.\n",
      "    \n",
      "    buffering is an optional integer used to set the buffering policy.\n",
      "    Pass 0 to switch buffering off (only allowed in binary mode), 1 to select\n",
      "    line buffering (only usable in text mode), and an integer > 1 to indicate\n",
      "    the size of a fixed-size chunk buffer.  When no buffering argument is\n",
      "    given, the default buffering policy works as follows:\n",
      "    \n",
      "    * Binary files are buffered in fixed-size chunks; the size of the buffer\n",
      "      is chosen using a heuristic trying to determine the underlying device's\n",
      "      \"block size\" and falling back on `io.DEFAULT_BUFFER_SIZE`.\n",
      "      On many systems, the buffer will typically be 4096 or 8192 bytes long.\n",
      "    \n",
      "    * \"Interactive\" text files (files for which isatty() returns True)\n",
      "      use line buffering.  Other text files use the policy described above\n",
      "      for binary files.\n",
      "    \n",
      "    encoding is the name of the encoding used to decode or encode the\n",
      "    file. This should only be used in text mode. The default encoding is\n",
      "    platform dependent, but any encoding supported by Python can be\n",
      "    passed.  See the codecs module for the list of supported encodings.\n",
      "    \n",
      "    errors is an optional string that specifies how encoding errors are to\n",
      "    be handled---this argument should not be used in binary mode. Pass\n",
      "    'strict' to raise a ValueError exception if there is an encoding error\n",
      "    (the default of None has the same effect), or pass 'ignore' to ignore\n",
      "    errors. (Note that ignoring encoding errors can lead to data loss.)\n",
      "    See the documentation for codecs.register or run 'help(codecs.Codec)'\n",
      "    for a list of the permitted encoding error strings.\n",
      "    \n",
      "    newline controls how universal newlines works (it only applies to text\n",
      "    mode). It can be None, '', '\\n', '\\r', and '\\r\\n'.  It works as\n",
      "    follows:\n",
      "    \n",
      "    * On input, if newline is None, universal newlines mode is\n",
      "      enabled. Lines in the input can end in '\\n', '\\r', or '\\r\\n', and\n",
      "      these are translated into '\\n' before being returned to the\n",
      "      caller. If it is '', universal newline mode is enabled, but line\n",
      "      endings are returned to the caller untranslated. If it has any of\n",
      "      the other legal values, input lines are only terminated by the given\n",
      "      string, and the line ending is returned to the caller untranslated.\n",
      "    \n",
      "    * On output, if newline is None, any '\\n' characters written are\n",
      "      translated to the system default line separator, os.linesep. If\n",
      "      newline is '' or '\\n', no translation takes place. If newline is any\n",
      "      of the other legal values, any '\\n' characters written are translated\n",
      "      to the given string.\n",
      "    \n",
      "    If closefd is False, the underlying file descriptor will be kept open\n",
      "    when the file is closed. This does not work when a file name is given\n",
      "    and must be True in that case.\n",
      "    \n",
      "    A custom opener can be used by passing a callable as *opener*. The\n",
      "    underlying file descriptor for the file object is then obtained by\n",
      "    calling *opener* with (*file*, *flags*). *opener* must return an open\n",
      "    file descriptor (passing os.open as *opener* results in functionality\n",
      "    similar to passing None).\n",
      "    \n",
      "    open() returns a file object whose type depends on the mode, and\n",
      "    through which the standard file operations such as reading and writing\n",
      "    are performed. When open() is used to open a file in a text mode ('w',\n",
      "    'r', 'wt', 'rt', etc.), it returns a TextIOWrapper. When used to open\n",
      "    a file in a binary mode, the returned class varies: in read binary\n",
      "    mode, it returns a BufferedReader; in write binary and append binary\n",
      "    modes, it returns a BufferedWriter, and in read/write mode, it returns\n",
      "    a BufferedRandom.\n",
      "    \n",
      "    It is also possible to use a string or bytearray as a file for both\n",
      "    reading and writing. For strings StringIO can be used like a file\n",
      "    opened in a text mode, and for bytes a BytesIO can be used like a file\n",
      "    opened in a binary mode.\n",
      "\n"
     ]
    }
   ],
   "source": [
    "help (open)"
   ]
  },
  {
   "cell_type": "code",
   "execution_count": 2,
   "id": "195d71d1",
   "metadata": {},
   "outputs": [],
   "source": [
    "import random"
   ]
  },
  {
   "cell_type": "code",
   "execution_count": 31,
   "id": "efb075a7",
   "metadata": {},
   "outputs": [],
   "source": [
    "count = 0\n",
    "file = open(\"file2.txt\", \"w\")"
   ]
  },
  {
   "cell_type": "code",
   "execution_count": 7,
   "id": "faaced24",
   "metadata": {},
   "outputs": [
    {
     "name": "stdout",
     "output_type": "stream",
     "text": [
      "Help on method randint in module random:\n",
      "\n",
      "randint(a, b) method of random.Random instance\n",
      "    Return random integer in range [a, b], including both end points.\n",
      "\n"
     ]
    }
   ],
   "source": [
    "help (random.randint)"
   ]
  },
  {
   "cell_type": "code",
   "execution_count": 18,
   "id": "f9c62d1c",
   "metadata": {},
   "outputs": [
    {
     "data": {
      "text/plain": [
       "677926"
      ]
     },
     "execution_count": 18,
     "metadata": {},
     "output_type": "execute_result"
    }
   ],
   "source": [
    "random.randint(0,1_000_000)"
   ]
  },
  {
   "cell_type": "code",
   "execution_count": 32,
   "id": "7e8b1f10",
   "metadata": {},
   "outputs": [],
   "source": [
    "while count <= 999:\n",
    "    file.write(str(random.randint(0,1_000_000)))\n",
    "    print(\"\",file=file)\n",
    "    count += 1\n",
    "file.close()"
   ]
  },
  {
   "cell_type": "code",
   "execution_count": 34,
   "id": "35e1ded4",
   "metadata": {},
   "outputs": [],
   "source": [
    "def file2_write():\n",
    "    \"creates file2.txt and writes 1000 integers on a new line\"\n",
    "    \n",
    "    count = 0\n",
    "    file = open(\"file2.txt\", \"w\")\n",
    "    \n",
    "    while count <= 999999:\n",
    "        file.write(str(random.randint(0,1_000_000)))\n",
    "        print(\"\",file=file)\n",
    "        count += 1\n",
    "        \n",
    "    file.close()"
   ]
  },
  {
   "cell_type": "code",
   "execution_count": 1,
   "id": "b491ed85",
   "metadata": {},
   "outputs": [],
   "source": [
    "from rnd_text import file2_write"
   ]
  },
  {
   "cell_type": "code",
   "execution_count": 4,
   "id": "d591b98d",
   "metadata": {},
   "outputs": [],
   "source": [
    "file2_write()"
   ]
  },
  {
   "cell_type": "code",
   "execution_count": 23,
   "id": "044ef641",
   "metadata": {},
   "outputs": [],
   "source": [
    "import time"
   ]
  },
  {
   "cell_type": "code",
   "execution_count": 7,
   "id": "fa2dadd4",
   "metadata": {},
   "outputs": [
    {
     "name": "stdout",
     "output_type": "stream",
     "text": [
      "--- 1.772 seconds ---\n"
     ]
    }
   ],
   "source": [
    "start_time = time.time()\n",
    "file2_write()\n",
    "print(\"--- %s seconds execution time ---\" % round((time.time()- start_time),3))"
   ]
  },
  {
   "cell_type": "code",
   "execution_count": 21,
   "id": "fcf77ce2",
   "metadata": {},
   "outputs": [],
   "source": [
    "import datetime"
   ]
  },
  {
   "cell_type": "code",
   "execution_count": 18,
   "id": "d78d8493",
   "metadata": {},
   "outputs": [],
   "source": [
    "current_time = datetime.datetime.now()"
   ]
  },
  {
   "cell_type": "code",
   "execution_count": 20,
   "id": "314db43f",
   "metadata": {},
   "outputs": [
    {
     "name": "stdout",
     "output_type": "stream",
     "text": [
      "2022-12-30 16:17:59.893711\n"
     ]
    }
   ],
   "source": [
    "print(current_time)"
   ]
  },
  {
   "cell_type": "code",
   "execution_count": 23,
   "id": "39be55d2",
   "metadata": {},
   "outputs": [],
   "source": [
    "def timed_file2_write():\n",
    "    current_time = datetime.datetime.now()\n",
    "    print(f'Start time: {current_time}')\n",
    "    \n",
    "    start_time = time.time()\n",
    "    \n",
    "    file2_write()\n",
    "    \n",
    "    current_time = datetime.datetime.now()\n",
    "    print(f'End time: {current_time}')\n",
    "    print(\"--- %s seconds execution time ---\" % round((time.time()- start_time),3))\n",
    "    "
   ]
  },
  {
   "cell_type": "code",
   "execution_count": 8,
   "id": "3ab8b508",
   "metadata": {},
   "outputs": [
    {
     "name": "stdout",
     "output_type": "stream",
     "text": [
      "Start time: 2023-01-04 17:21:15.436474\n",
      "End time: 2023-01-04 17:21:17.031321\n",
      "--- 1.595 seconds execution time ---\n"
     ]
    }
   ],
   "source": [
    "timed_file2_write()"
   ]
  },
  {
   "cell_type": "code",
   "execution_count": 1,
   "id": "2f217ec2",
   "metadata": {},
   "outputs": [],
   "source": [
    "from rnd_text import timed_file2_write"
   ]
  },
  {
   "cell_type": "code",
   "execution_count": 9,
   "id": "10a71fa1",
   "metadata": {},
   "outputs": [
    {
     "name": "stdout",
     "output_type": "stream",
     "text": [
      "Start time: 2023-01-04 17:21:19.754053\n",
      "End time: 2023-01-04 17:21:21.322660\n",
      "--- 1.569 seconds execution time ---\n"
     ]
    }
   ],
   "source": [
    "timed_file2_write()"
   ]
  },
  {
   "cell_type": "code",
   "execution_count": 1,
   "id": "4f2a2873",
   "metadata": {},
   "outputs": [],
   "source": [
    "import pandas as pd"
   ]
  },
  {
   "cell_type": "code",
   "execution_count": 2,
   "id": "15f04f18",
   "metadata": {},
   "outputs": [],
   "source": [
    "df = pd.read_csv(\"file2.txt\", sep=\" \", header=None)"
   ]
  },
  {
   "cell_type": "code",
   "execution_count": 7,
   "id": "2d4fa34d",
   "metadata": {},
   "outputs": [
    {
     "data": {
      "text/plain": [
       "0          142142\n",
       "1           22692\n",
       "2          330118\n",
       "3         1432644\n",
       "4          643946\n",
       "           ...   \n",
       "999995    1335636\n",
       "999996    1438280\n",
       "999997     998680\n",
       "999998    1389684\n",
       "999999    1915228\n",
       "Name: 0, Length: 1000000, dtype: int64"
      ]
     },
     "execution_count": 7,
     "metadata": {},
     "output_type": "execute_result"
    }
   ],
   "source": [
    "df[0] * 2"
   ]
  },
  {
   "cell_type": "code",
   "execution_count": 9,
   "id": "cabebf57",
   "metadata": {},
   "outputs": [],
   "source": [
    "double_df = df * 2"
   ]
  },
  {
   "cell_type": "code",
   "execution_count": 10,
   "id": "4d3600a6",
   "metadata": {},
   "outputs": [
    {
     "data": {
      "text/html": [
       "<div>\n",
       "<style scoped>\n",
       "    .dataframe tbody tr th:only-of-type {\n",
       "        vertical-align: middle;\n",
       "    }\n",
       "\n",
       "    .dataframe tbody tr th {\n",
       "        vertical-align: top;\n",
       "    }\n",
       "\n",
       "    .dataframe thead th {\n",
       "        text-align: right;\n",
       "    }\n",
       "</style>\n",
       "<table border=\"1\" class=\"dataframe\">\n",
       "  <thead>\n",
       "    <tr style=\"text-align: right;\">\n",
       "      <th></th>\n",
       "      <th>0</th>\n",
       "    </tr>\n",
       "  </thead>\n",
       "  <tbody>\n",
       "    <tr>\n",
       "      <th>0</th>\n",
       "      <td>142142</td>\n",
       "    </tr>\n",
       "    <tr>\n",
       "      <th>1</th>\n",
       "      <td>22692</td>\n",
       "    </tr>\n",
       "    <tr>\n",
       "      <th>2</th>\n",
       "      <td>330118</td>\n",
       "    </tr>\n",
       "    <tr>\n",
       "      <th>3</th>\n",
       "      <td>1432644</td>\n",
       "    </tr>\n",
       "    <tr>\n",
       "      <th>4</th>\n",
       "      <td>643946</td>\n",
       "    </tr>\n",
       "    <tr>\n",
       "      <th>...</th>\n",
       "      <td>...</td>\n",
       "    </tr>\n",
       "    <tr>\n",
       "      <th>999995</th>\n",
       "      <td>1335636</td>\n",
       "    </tr>\n",
       "    <tr>\n",
       "      <th>999996</th>\n",
       "      <td>1438280</td>\n",
       "    </tr>\n",
       "    <tr>\n",
       "      <th>999997</th>\n",
       "      <td>998680</td>\n",
       "    </tr>\n",
       "    <tr>\n",
       "      <th>999998</th>\n",
       "      <td>1389684</td>\n",
       "    </tr>\n",
       "    <tr>\n",
       "      <th>999999</th>\n",
       "      <td>1915228</td>\n",
       "    </tr>\n",
       "  </tbody>\n",
       "</table>\n",
       "<p>1000000 rows × 1 columns</p>\n",
       "</div>"
      ],
      "text/plain": [
       "              0\n",
       "0        142142\n",
       "1         22692\n",
       "2        330118\n",
       "3       1432644\n",
       "4        643946\n",
       "...         ...\n",
       "999995  1335636\n",
       "999996  1438280\n",
       "999997   998680\n",
       "999998  1389684\n",
       "999999  1915228\n",
       "\n",
       "[1000000 rows x 1 columns]"
      ]
     },
     "execution_count": 10,
     "metadata": {},
     "output_type": "execute_result"
    }
   ],
   "source": [
    "double_df"
   ]
  },
  {
   "cell_type": "code",
   "execution_count": 15,
   "id": "4ae97926",
   "metadata": {},
   "outputs": [],
   "source": [
    "double_df[0].to_csv(\"newfile1_pandas.txt\", index = False, header= None)"
   ]
  },
  {
   "cell_type": "code",
   "execution_count": 16,
   "id": "9b479041",
   "metadata": {},
   "outputs": [],
   "source": [
    "def pandas_newfile1():\n",
    "    current_time = datetime.datetime.now()\n",
    "    print(f'Start time: {current_time}')\n",
    "    \n",
    "    start_time = time.time()\n",
    "    \n",
    "    df = pd.read_csv(\"file1.txt\", sep=\" \", header=None)\n",
    "    double_df = df * 2\n",
    "    double_df[0].to_csv(\"newfile1_pandas.txt\", index = False, header= None)\n",
    "    \n",
    "    current_time = datetime.datetime.now()\n",
    "    print(f'End time: {current_time}')\n",
    "    print(\"--- %s seconds execution time ---\" % round((time.time()- start_time),3))"
   ]
  },
  {
   "cell_type": "code",
   "execution_count": 17,
   "id": "b10c8e82",
   "metadata": {},
   "outputs": [],
   "source": [
    "from rnd_text import pandas_newfile1"
   ]
  },
  {
   "cell_type": "code",
   "execution_count": 18,
   "id": "1af6d3a9",
   "metadata": {},
   "outputs": [
    {
     "name": "stdout",
     "output_type": "stream",
     "text": [
      "Start time: 2023-01-11 14:38:38.864236\n",
      "End time: 2023-01-11 14:38:39.752297\n",
      "--- 0.888 seconds execution time ---\n"
     ]
    }
   ],
   "source": [
    "pandas_newfile1()"
   ]
  },
  {
   "cell_type": "code",
   "execution_count": null,
   "id": "555b7ec6",
   "metadata": {},
   "outputs": [],
   "source": [
    "def line_by_line_newfile1():\n",
    "    '''CSC507 Milestone 4. Reads file1.txt line by line, multiplies each line by 2, and outputs to new text file'''\n",
    "    \n",
    "    current_time = datetime.datetime.now()\n",
    "    print(f'Start time: {current_time}')\n",
    "    \n",
    "    start_time = time.time()\n",
    "    \n",
    "    count = 0\n",
    "    file = open(\"file1.txt\", \"r\")\n",
    "    newfile = open(\"newfile1_lines.txt\", \"w\")\n",
    "    \n",
    "    for line in file:\n",
    "        line = int(line) * 2\n",
    "        newfile.write(str(line))\n",
    "        print(\"\",file=newfile)\n",
    "        \n",
    "    file.close()\n",
    "    newfile.close()\n",
    "    \n",
    "    current_time = datetime.datetime.now()\n",
    "    print(f'End time: {current_time}')\n",
    "    print(\"--- %s seconds execution time ---\" % round((time.time()- start_time),3))"
   ]
  },
  {
   "cell_type": "code",
   "execution_count": 43,
   "id": "4f033a6c",
   "metadata": {},
   "outputs": [
    {
     "name": "stdout",
     "output_type": "stream",
     "text": [
      "Start time: 2023-01-11 15:05:57.260091\n",
      "End time: 2023-01-11 15:05:58.087489\n",
      "--- 0.828 seconds execution time ---\n"
     ]
    }
   ],
   "source": [
    "line_by_line_newfile1()"
   ]
  },
  {
   "cell_type": "code",
   "execution_count": 1,
   "id": "3cc0df98",
   "metadata": {},
   "outputs": [],
   "source": [
    "from rnd_text import line_by_line_newfile1"
   ]
  },
  {
   "cell_type": "code",
   "execution_count": 2,
   "id": "f0505b62",
   "metadata": {},
   "outputs": [
    {
     "name": "stdout",
     "output_type": "stream",
     "text": [
      "Start time: 2023-01-11 15:08:43.347727\n",
      "End time: 2023-01-11 15:08:44.107066\n",
      "--- 0.759 seconds execution time ---\n"
     ]
    }
   ],
   "source": [
    "line_by_line_newfile1()"
   ]
  },
  {
   "cell_type": "code",
   "execution_count": 7,
   "id": "b4d3d18d",
   "metadata": {},
   "outputs": [],
   "source": [
    "def split_newfile1():\n",
    "    '''CSC507 Milestone 4. Splits file1.txt into 2, creates dataframes for each,\n",
    "    multiplies each line by 2, and outputs to new text file. 2nd half of file is appended'''\n",
    "    \n",
    "    current_time = datetime.datetime.now()\n",
    "    print(f'Start time: {current_time}')\n",
    "    \n",
    "    start_time = time.time()\n",
    "    \n",
    "    split()\n",
    "    \n",
    "    df1 = pd.read_csv(\"small_file_500000.txt\", sep=\" \", header=None)\n",
    "    double_df1 = df1 * 2\n",
    "    double_df1[0].to_csv(\"newfile1_split.txt\", index = False, header= None)\n",
    "    \n",
    "    df2 = pd.read_csv(\"small_file_1000000.txt\", sep=\" \", header=None)\n",
    "    double_df2 = df2 * 2\n",
    "    double_df2[0].to_csv(\"newfile1_split.txt\", mode = 'a', index = False, header= None)\n",
    "    \n",
    "    current_time = datetime.datetime.now()\n",
    "    print(f'End time: {current_time}')\n",
    "    print(\"--- %s seconds execution time ---\" % round((time.time()- start_time),3))"
   ]
  },
  {
   "cell_type": "code",
   "execution_count": 8,
   "id": "7e0ccb86",
   "metadata": {},
   "outputs": [],
   "source": [
    "def split():\n",
    "    lines_per_file = 500000\n",
    "    smallfile = None\n",
    "    with open('file1.txt') as bigfile:\n",
    "        for lineno, line in enumerate(bigfile):\n",
    "            if lineno % lines_per_file == 0:\n",
    "                if smallfile:\n",
    "                    smallfile.close()\n",
    "                small_filename = 'small_file_{}.txt'.format(lineno + lines_per_file)\n",
    "                smallfile = open(small_filename, \"w\")\n",
    "            smallfile.write(line)\n",
    "        if smallfile:\n",
    "            smallfile.close()"
   ]
  },
  {
   "cell_type": "code",
   "execution_count": 3,
   "id": "6b784c3b",
   "metadata": {},
   "outputs": [],
   "source": [
    "from rnd_text import pandas_newfile1, line_by_line_newfile1, split_newfile1"
   ]
  },
  {
   "cell_type": "code",
   "execution_count": 7,
   "id": "482dd7fd",
   "metadata": {},
   "outputs": [
    {
     "name": "stdout",
     "output_type": "stream",
     "text": [
      "Start time: 2023-01-11 15:47:15.464450\n",
      "End time: 2023-01-11 15:47:16.407194\n",
      "--- 0.943 seconds execution time ---\n"
     ]
    }
   ],
   "source": [
    "pandas_newfile1()"
   ]
  },
  {
   "cell_type": "code",
   "execution_count": 8,
   "id": "091430ea",
   "metadata": {},
   "outputs": [
    {
     "name": "stdout",
     "output_type": "stream",
     "text": [
      "Start time: 2023-01-11 15:47:17.489003\n",
      "End time: 2023-01-11 15:47:18.255249\n",
      "--- 0.765 seconds execution time ---\n"
     ]
    }
   ],
   "source": [
    "line_by_line_newfile1()"
   ]
  },
  {
   "cell_type": "code",
   "execution_count": 9,
   "id": "3ff6188b",
   "metadata": {},
   "outputs": [
    {
     "name": "stdout",
     "output_type": "stream",
     "text": [
      "Start time: 2023-01-11 15:47:18.809535\n",
      "End time: 2023-01-11 15:47:19.935228\n",
      "--- 1.126 seconds execution time ---\n"
     ]
    }
   ],
   "source": [
    "split_newfile1()"
   ]
  },
  {
   "cell_type": "code",
   "execution_count": 1,
   "id": "0dccf21a",
   "metadata": {},
   "outputs": [],
   "source": [
    "from rnd_text import timed_file2_write_10M"
   ]
  },
  {
   "cell_type": "code",
   "execution_count": 2,
   "id": "952142fa",
   "metadata": {},
   "outputs": [
    {
     "name": "stdout",
     "output_type": "stream",
     "text": [
      "Start time: 2023-02-02 14:02:07.622912\n",
      "End time: 2023-02-02 14:02:23.754721\n",
      "--- 16.132 seconds execution time ---\n"
     ]
    }
   ],
   "source": [
    "timed_file2_write_10M()"
   ]
  },
  {
   "cell_type": "code",
   "execution_count": 3,
   "id": "4f2b66b7",
   "metadata": {},
   "outputs": [],
   "source": [
    "import multiprocessing\n",
    "import time\n",
    " \n",
    "def task():\n",
    "    print('Sleeping for 0.5 seconds')\n",
    "    time.sleep(0.5)\n",
    "    print('Finished sleeping')"
   ]
  },
  {
   "cell_type": "code",
   "execution_count": 5,
   "id": "2c34f3fe",
   "metadata": {},
   "outputs": [
    {
     "name": "stdout",
     "output_type": "stream",
     "text": [
      "Sleeping for 0.5 seconds\n",
      "Finished sleeping\n",
      "Sleeping for 0.5 seconds\n",
      "Finished sleeping\n",
      "Program finished in 1.04641405700022 seconds\n"
     ]
    }
   ],
   "source": [
    "if __name__ == \"__main__\":\n",
    "    start_time = time.perf_counter()\n",
    " \n",
    "    # Creates two processes\n",
    "    p1 = multiprocessing.Process(target=task)\n",
    "    p2 = multiprocessing.Process(target=task)\n",
    " \n",
    "    # Starts both processes\n",
    "    p1.start()\n",
    "    p1.join()\n",
    "    p2.start()\n",
    "    p2.join()\n",
    " \n",
    "    finish_time = time.perf_counter()\n",
    " \n",
    "    print(f\"Program finished in {finish_time-start_time} seconds\")"
   ]
  },
  {
   "cell_type": "code",
   "execution_count": 49,
   "id": "fb5baf57",
   "metadata": {},
   "outputs": [],
   "source": [
    "def split_10M(num_files):\n",
    "    lines_per_file = int(10_000_000 / num_files)\n",
    "    smallfile = None\n",
    "    with open('file2_10M.txt') as bigfile:\n",
    "        for lineno, line in enumerate(bigfile):\n",
    "            if lineno % lines_per_file == 0:\n",
    "                if smallfile:\n",
    "                    smallfile.close()\n",
    "                small_filename = 'small_file_{}.txt'.format(lineno + lines_per_file)\n",
    "                smallfile = open(small_filename, \"w\")\n",
    "            smallfile.write(line)\n",
    "        if smallfile:\n",
    "            smallfile.close()"
   ]
  },
  {
   "cell_type": "code",
   "execution_count": 23,
   "id": "68df9fca",
   "metadata": {},
   "outputs": [],
   "source": [
    "def line_by_line_10M(filename):\n",
    "    '''CSC507 CT6. Reads text files line by line, multiplies each line by 2, and outputs to new text file'''\n",
    "    \n",
    "    \n",
    "    #current_time = datetime.datetime.now()\n",
    "    #print(f'Start time: {current_time}')\n",
    "    \n",
    "    #start_time = time.time()\n",
    "    \n",
    "    #count = 0\n",
    "    file = open(filename, \"r\")\n",
    "    newfile = open(\"newfile_10M.txt\", \"a\")\n",
    "    print(f'Reading {filename}')\n",
    "    \n",
    "    for line in file:\n",
    "        line = int(line) * 2\n",
    "        newfile.write(str(line))\n",
    "        print(\"\",file=newfile)\n",
    "        \n",
    "    file.close()\n",
    "    newfile.close()\n",
    "    \n",
    "    #current_time = datetime.datetime.now()\n",
    "    #print(f'End time: {current_time}')\n",
    "    #print(\"--- %s seconds execution time ---\" % round((time.time()- start_time),3))"
   ]
  },
  {
   "cell_type": "code",
   "execution_count": 19,
   "id": "4575c097",
   "metadata": {},
   "outputs": [],
   "source": [
    "import os"
   ]
  },
  {
   "cell_type": "code",
   "execution_count": 81,
   "id": "cd2e806a",
   "metadata": {},
   "outputs": [
    {
     "name": "stdout",
     "output_type": "stream",
     "text": [
      "Reading file2_10M.txt\n",
      "Program finished in 8.059727158000896 seconds\n"
     ]
    }
   ],
   "source": [
    "if __name__ == \"__main__\":\n",
    "    if os.path.exists(\"newfile_10M.txt\"):\n",
    "        os.remove(\"newfile_10M.txt\") \n",
    "    \n",
    "    start_time = time.perf_counter()\n",
    "\n",
    "    # Creates two processes\n",
    "    p1 = multiprocessing.Process(target=line_by_line_10M(\"file2_10M.txt\"))\n",
    "    #p2 = multiprocessing.Process(target=line_by_line_10M(\"small_file_10000000.0.txt\"))\n",
    " \n",
    "    # Starts both processes\n",
    "    p1.start()\n",
    "    #p1.join()\n",
    "    #p2.start()\n",
    "    #p2.join()\n",
    " \n",
    "    finish_time = time.perf_counter()\n",
    " \n",
    "    print(f\"Program finished in {finish_time-start_time} seconds\")"
   ]
  },
  {
   "cell_type": "code",
   "execution_count": 71,
   "id": "b2cd9723",
   "metadata": {},
   "outputs": [],
   "source": [
    "split_10M(2)"
   ]
  },
  {
   "cell_type": "code",
   "execution_count": 80,
   "id": "9f929187",
   "metadata": {},
   "outputs": [
    {
     "name": "stdout",
     "output_type": "stream",
     "text": [
      "Reading small_file_5000000.txt\n",
      "Reading small_file_10000000.txt\n",
      "Program finished in 7.897871682000186 seconds\n"
     ]
    }
   ],
   "source": [
    "if __name__ == \"__main__\":\n",
    "    if os.path.exists(\"newfile_10M.txt\"):\n",
    "        os.remove(\"newfile_10M.txt\") \n",
    "    \n",
    "    start_time = time.perf_counter()\n",
    "\n",
    "    # Creates two processes\n",
    "    p1 = multiprocessing.Process(target=line_by_line_10M(\"small_file_5000000.txt\"))\n",
    "    p2 = multiprocessing.Process(target=line_by_line_10M(\"small_file_10000000.txt\"))\n",
    " \n",
    "    # Starts both processes\n",
    "    p1.start()\n",
    "    p1.join()\n",
    "    p2.start()\n",
    "    p2.join()\n",
    " \n",
    "    finish_time = time.perf_counter()\n",
    " \n",
    "    print(f\"Program finished in {finish_time-start_time} seconds\")"
   ]
  },
  {
   "cell_type": "code",
   "execution_count": 82,
   "id": "4da213f5",
   "metadata": {},
   "outputs": [],
   "source": [
    "split_10M(5)"
   ]
  },
  {
   "cell_type": "code",
   "execution_count": 86,
   "id": "7e5a342d",
   "metadata": {},
   "outputs": [
    {
     "name": "stdout",
     "output_type": "stream",
     "text": [
      "Reading small_file_2000000.txt\n",
      "Reading small_file_4000000.txt\n",
      "Reading small_file_6000000.txt\n",
      "Reading small_file_8000000.txt\n",
      "Reading small_file_10000000.txt\n",
      "Program finished in 7.882980275999216 seconds\n"
     ]
    }
   ],
   "source": [
    "if __name__ == \"__main__\":\n",
    "    if os.path.exists(\"newfile_10M.txt\"):\n",
    "        os.remove(\"newfile_10M.txt\") \n",
    "    \n",
    "    start_time = time.perf_counter()\n",
    "\n",
    "    # Creates two processes\n",
    "    p1 = multiprocessing.Process(target=line_by_line_10M(\"small_file_2000000.txt\"))\n",
    "    p2 = multiprocessing.Process(target=line_by_line_10M(\"small_file_4000000.txt\"))\n",
    "    p3 = multiprocessing.Process(target=line_by_line_10M(\"small_file_6000000.txt\"))\n",
    "    p4 = multiprocessing.Process(target=line_by_line_10M(\"small_file_8000000.txt\"))\n",
    "    p5 = multiprocessing.Process(target=line_by_line_10M(\"small_file_10000000.txt\"))\n",
    "    \n",
    "    process_list = [p1,p2,p3,p4,p5]\n",
    "    \n",
    "    # Starts all processes\n",
    "    for p in process_list:\n",
    "        p.start()\n",
    "        p.join()\n",
    "    \n",
    " \n",
    "    finish_time = time.perf_counter()\n",
    " \n",
    "    print(f\"Program finished in {finish_time-start_time} seconds\")"
   ]
  },
  {
   "cell_type": "code",
   "execution_count": 87,
   "id": "0123f228",
   "metadata": {},
   "outputs": [],
   "source": [
    "split_10M(10)"
   ]
  },
  {
   "cell_type": "code",
   "execution_count": 90,
   "id": "5c96298c",
   "metadata": {},
   "outputs": [
    {
     "name": "stdout",
     "output_type": "stream",
     "text": [
      "Reading small_file_1000000.txt\n",
      "Reading small_file_2000000.txt\n",
      "Reading small_file_3000000.txt\n",
      "Reading small_file_4000000.txt\n",
      "Reading small_file_5000000.txt\n",
      "Reading small_file_6000000.txt\n",
      "Reading small_file_7000000.txt\n",
      "Reading small_file_8000000.txt\n",
      "Reading small_file_9000000.txt\n",
      "Reading small_file_10000000.txt\n",
      "Program finished in 7.8706896969997615 seconds\n"
     ]
    }
   ],
   "source": [
    "if __name__ == \"__main__\":\n",
    "    if os.path.exists(\"newfile_10M.txt\"):\n",
    "        os.remove(\"newfile_10M.txt\") \n",
    "    \n",
    "    start_time = time.perf_counter()\n",
    "\n",
    "    # Creates ten processes\n",
    "    p1 = multiprocessing.Process(target=line_by_line_10M(\"small_file_1000000.txt\"))\n",
    "    p2 = multiprocessing.Process(target=line_by_line_10M(\"small_file_2000000.txt\"))\n",
    "    p3 = multiprocessing.Process(target=line_by_line_10M(\"small_file_3000000.txt\"))\n",
    "    p4 = multiprocessing.Process(target=line_by_line_10M(\"small_file_4000000.txt\"))\n",
    "    p5 = multiprocessing.Process(target=line_by_line_10M(\"small_file_5000000.txt\"))\n",
    "    p6 = multiprocessing.Process(target=line_by_line_10M(\"small_file_6000000.txt\"))\n",
    "    p7 = multiprocessing.Process(target=line_by_line_10M(\"small_file_7000000.txt\"))\n",
    "    p8 = multiprocessing.Process(target=line_by_line_10M(\"small_file_8000000.txt\"))\n",
    "    p9 = multiprocessing.Process(target=line_by_line_10M(\"small_file_9000000.txt\"))\n",
    "    p10 = multiprocessing.Process(target=line_by_line_10M(\"small_file_10000000.txt\"))\n",
    "    \n",
    "    process_list = [p1,p2,p3,p4,p5,p6,p7,p8,p9,p10]\n",
    "    \n",
    "    # Starts all processes\n",
    "    for p in process_list:\n",
    "        p.start()\n",
    "        p.join()\n",
    "    \n",
    " \n",
    "    finish_time = time.perf_counter()\n",
    " \n",
    "    print(f\"Program finished in {finish_time-start_time} seconds\")"
   ]
  },
  {
   "cell_type": "code",
   "execution_count": 91,
   "id": "3920fc05",
   "metadata": {},
   "outputs": [],
   "source": [
    "split_10M(20)"
   ]
  },
  {
   "cell_type": "code",
   "execution_count": 96,
   "id": "5cf45dc5",
   "metadata": {},
   "outputs": [
    {
     "name": "stdout",
     "output_type": "stream",
     "text": [
      "Reading small_file_500000.txt\n",
      "Reading small_file_1000000.txt\n",
      "Reading small_file_1500000.txt\n",
      "Reading small_file_2000000.txt\n",
      "Reading small_file_2500000.txt\n",
      "Reading small_file_3000000.txt\n",
      "Reading small_file_3500000.txt\n",
      "Reading small_file_4000000.txt\n",
      "Reading small_file_4500000.txt\n",
      "Reading small_file_5000000.txt\n",
      "Reading small_file_5500000.txt\n",
      "Reading small_file_6000000.txt\n",
      "Reading small_file_6500000.txt\n",
      "Reading small_file_7000000.txt\n",
      "Reading small_file_7500000.txt\n",
      "Reading small_file_8000000.txt\n",
      "Reading small_file_8500000.txt\n",
      "Reading small_file_9000000.txt\n",
      "Reading small_file_9500000.txt\n",
      "Reading small_file_10000000.txt\n",
      "Program finished in 8.04683035800008 seconds\n"
     ]
    }
   ],
   "source": [
    "if __name__ == \"__main__\":\n",
    "    if os.path.exists(\"newfile_10M.txt\"):\n",
    "        os.remove(\"newfile_10M.txt\") \n",
    "    \n",
    "    start_time = time.perf_counter()\n",
    "\n",
    "    # Creates two processes\n",
    "    p1 = multiprocessing.Process(target=line_by_line_10M(\"small_file_500000.txt\"))\n",
    "    p2 = multiprocessing.Process(target=line_by_line_10M(\"small_file_1000000.txt\"))\n",
    "    p3 = multiprocessing.Process(target=line_by_line_10M(\"small_file_1500000.txt\"))\n",
    "    p4 = multiprocessing.Process(target=line_by_line_10M(\"small_file_2000000.txt\"))\n",
    "    p5 = multiprocessing.Process(target=line_by_line_10M(\"small_file_2500000.txt\"))\n",
    "    p6 = multiprocessing.Process(target=line_by_line_10M(\"small_file_3000000.txt\"))\n",
    "    p7 = multiprocessing.Process(target=line_by_line_10M(\"small_file_3500000.txt\"))\n",
    "    p8 = multiprocessing.Process(target=line_by_line_10M(\"small_file_4000000.txt\"))\n",
    "    p9 = multiprocessing.Process(target=line_by_line_10M(\"small_file_4500000.txt\"))\n",
    "    p10 = multiprocessing.Process(target=line_by_line_10M(\"small_file_5000000.txt\"))\n",
    "    p11 = multiprocessing.Process(target=line_by_line_10M(\"small_file_5500000.txt\"))\n",
    "    p12 = multiprocessing.Process(target=line_by_line_10M(\"small_file_6000000.txt\"))\n",
    "    p13 = multiprocessing.Process(target=line_by_line_10M(\"small_file_6500000.txt\"))\n",
    "    p14 = multiprocessing.Process(target=line_by_line_10M(\"small_file_7000000.txt\"))\n",
    "    p15 = multiprocessing.Process(target=line_by_line_10M(\"small_file_7500000.txt\"))\n",
    "    p16 = multiprocessing.Process(target=line_by_line_10M(\"small_file_8000000.txt\"))\n",
    "    p17 = multiprocessing.Process(target=line_by_line_10M(\"small_file_8500000.txt\"))\n",
    "    p18 = multiprocessing.Process(target=line_by_line_10M(\"small_file_9000000.txt\"))\n",
    "    p19 = multiprocessing.Process(target=line_by_line_10M(\"small_file_9500000.txt\"))\n",
    "    p20 = multiprocessing.Process(target=line_by_line_10M(\"small_file_10000000.txt\"))\n",
    "    \n",
    "    process_list = [p1,p2,p3,p4,p5,p6,p7,p8,p9,p10,p11,p12,p13,p14,p15,p16,p17,p18,p19,p20]\n",
    "    \n",
    "    # Starts all processes\n",
    "    for p in process_list:\n",
    "        p.start()\n",
    "        p.join()\n",
    "    \n",
    " \n",
    "    finish_time = time.perf_counter()\n",
    " \n",
    "    print(f\"Program finished in {finish_time-start_time} seconds\")"
   ]
  },
  {
   "cell_type": "code",
   "execution_count": 5,
   "id": "cc0ab8db",
   "metadata": {},
   "outputs": [],
   "source": [
    "import multiprocessing\n",
    "import time\n",
    "import os"
   ]
  },
  {
   "cell_type": "code",
   "execution_count": 2,
   "id": "140f1222",
   "metadata": {},
   "outputs": [],
   "source": [
    "def split_1B(file,num_files):\n",
    "    lines_per_file = int(1_000_000_000 / num_files)\n",
    "    smallfile = None\n",
    "    with open(file) as bigfile:\n",
    "        for lineno, line in enumerate(bigfile):\n",
    "            if lineno % lines_per_file == 0:\n",
    "                if smallfile:\n",
    "                    smallfile.close()\n",
    "                small_filename = 'small_file_{}.txt'.format(lineno + lines_per_file)\n",
    "                smallfile = open(small_filename, \"w\")\n",
    "            smallfile.write(line)\n",
    "        if smallfile:\n",
    "            smallfile.close()"
   ]
  },
  {
   "cell_type": "code",
   "execution_count": 3,
   "id": "d9ae91bf",
   "metadata": {},
   "outputs": [],
   "source": [
    "split_1B('hugefile1.txt',2)"
   ]
  },
  {
   "cell_type": "code",
   "execution_count": 4,
   "id": "d4adeab0",
   "metadata": {},
   "outputs": [],
   "source": [
    "split_1B('hugefile2.txt',2)"
   ]
  },
  {
   "cell_type": "code",
   "execution_count": 2,
   "id": "50d564ad",
   "metadata": {},
   "outputs": [],
   "source": [
    "def total(file1,file2):\n",
    "    '''CSC507 Mod8. Opens 2 text files, reads line by line, adds each corresponding\n",
    "    line, and outputs to totalfile.txt'''\n",
    "    \n",
    "    newfile = open(\"totalfile.txt\", \"a\")\n",
    "    \n",
    "    with open(file1) as textfile1, open(file2) as textfile2: \n",
    "        for x, y in zip(textfile1, textfile2):\n",
    "            x = int(x.strip())\n",
    "            y = int(y.strip())\n",
    "            line_sum = x + y\n",
    "            newfile.write(str(line_sum))\n",
    "            print(\"\",file=newfile)\n",
    "             \n",
    "    textfile1.close()\n",
    "    textfile2.close()\n",
    "    newfile.close()"
   ]
  },
  {
   "cell_type": "code",
   "execution_count": 29,
   "id": "f76344f0",
   "metadata": {},
   "outputs": [],
   "source": [
    "newfile = open(\"totalfile.txt\", \"a\")\n",
    "with open(\"test1.txt\") as textfile1, open(\"test2.txt\") as textfile2: \n",
    "        for x, y in zip(textfile1, textfile2):\n",
    "            x = int(x.strip())\n",
    "            y = int(y.strip())\n",
    "            line_sum = x + y\n",
    "            newfile.write(str(line_sum))\n",
    "            print(\"\",file=newfile)\n",
    "            \n",
    "textfile1.close()\n",
    "textfile2.close()\n",
    "newfile.close()"
   ]
  },
  {
   "cell_type": "code",
   "execution_count": 26,
   "id": "bb25b7b6",
   "metadata": {},
   "outputs": [
    {
     "name": "stdout",
     "output_type": "stream",
     "text": [
      "18656\t+  71071 = 89727\n",
      "18120\t+  11346 = 29466\n",
      "24946\t+  165059 = 190005\n",
      "30353\t+  716322 = 746675\n",
      "31622\t+  321973 = 353595\n",
      "4561\t+  856683 = 861244\n",
      "21136\t+  93995 = 115131\n",
      "32270\t+  907063 = 939333\n",
      "27762\t+  184223 = 211985\n",
      "4820\t+  999233 = 1004053\n"
     ]
    }
   ],
   "source": [
    "with open(\"test1.txt\") as textfile1, open(\"test2.txt\") as textfile2: \n",
    "        for x, y in zip(textfile1, textfile2):\n",
    "            x = int(x.strip())\n",
    "            y = int(y.strip())\n",
    "            print(f\"{x}\\t+  {y}\",end=\"\"), print(f\" = {x+y}\")\n",
    "            "
   ]
  },
  {
   "cell_type": "code",
   "execution_count": 31,
   "id": "8b4023db",
   "metadata": {},
   "outputs": [],
   "source": [
    "total('test1.txt','test2.txt')"
   ]
  },
  {
   "cell_type": "code",
   "execution_count": null,
   "id": "1aa4a73f",
   "metadata": {},
   "outputs": [],
   "source": []
  },
  {
   "cell_type": "code",
   "execution_count": null,
   "id": "7c26af1a",
   "metadata": {},
   "outputs": [],
   "source": []
  },
  {
   "cell_type": "code",
   "execution_count": 32,
   "id": "bbcf6b82",
   "metadata": {},
   "outputs": [
    {
     "name": "stdout",
     "output_type": "stream",
     "text": [
      "Program finished in 1084.4354030620007 seconds\n"
     ]
    }
   ],
   "source": [
    "if __name__ == \"__main__\":\n",
    "    if os.path.exists(\"totalfile.txt\"):\n",
    "        os.remove(\"totalfile.txt\") \n",
    "    \n",
    "    start_time = time.perf_counter()\n",
    "\n",
    "    # Creates x number of processes\n",
    "    p1 = multiprocessing.Process(target=total(\"hugefile1_500M-1.txt\",\"hugefile2_500M-1.txt\"))\n",
    "    p2 = multiprocessing.Process(target=total(\"hugefile1_500M-2.txt\",\"hugefile2_500M-2.txt\"))\n",
    "    \n",
    "    process_list = [p1,p2]\n",
    "    \n",
    "    # Starts all processes\n",
    "    for p in process_list:\n",
    "        p.start()\n",
    "        \n",
    "    # Forces all processes to finish before finish timer executes\n",
    "    for p in process_list:\n",
    "        p.join()\n",
    " \n",
    "    finish_time = time.perf_counter()\n",
    " \n",
    "    print(f\"Program finished in {finish_time-start_time} seconds\")"
   ]
  },
  {
   "cell_type": "code",
   "execution_count": 34,
   "id": "4c24891e",
   "metadata": {},
   "outputs": [
    {
     "name": "stdout",
     "output_type": "stream",
     "text": [
      "Program finished in 260.5 seconds\n"
     ]
    }
   ],
   "source": [
    "start_time = time.perf_counter()\n",
    "\n",
    "split_1B('hugefile1.txt',10)\n",
    "\n",
    "finish_time = time.perf_counter()\n",
    " \n",
    "print(f\"Program finished in {round(finish_time-start_time,2)} seconds\")"
   ]
  },
  {
   "cell_type": "code",
   "execution_count": 35,
   "id": "8726e1be",
   "metadata": {},
   "outputs": [
    {
     "name": "stdout",
     "output_type": "stream",
     "text": [
      "Program finished in 261.243 seconds\n"
     ]
    }
   ],
   "source": [
    "start_time = time.perf_counter()\n",
    "\n",
    "split_1B('hugefile2.txt',10)\n",
    "\n",
    "finish_time = time.perf_counter()\n",
    " \n",
    "print(f\"Program finished in {round(finish_time-start_time,3)} seconds\")"
   ]
  },
  {
   "cell_type": "code",
   "execution_count": 36,
   "id": "de191ee7",
   "metadata": {},
   "outputs": [
    {
     "name": "stdout",
     "output_type": "stream",
     "text": [
      "Program finished in 1091.885 seconds\n"
     ]
    }
   ],
   "source": [
    "if __name__ == \"__main__\":\n",
    "    if os.path.exists(\"totalfile.txt\"):\n",
    "        os.remove(\"totalfile.txt\") \n",
    "    \n",
    "    start_time = time.perf_counter()\n",
    "\n",
    "    # Creates x number of processes\n",
    "    p1 = multiprocessing.Process(target=total(\"hugefile1_100M-1.txt\",\"hugefile2_100M-1.txt\"))\n",
    "    p2 = multiprocessing.Process(target=total(\"hugefile1_100M-2.txt\",\"hugefile2_100M-2.txt\"))\n",
    "    p3 = multiprocessing.Process(target=total(\"hugefile1_100M-3.txt\",\"hugefile2_100M-3.txt\"))\n",
    "    p4 = multiprocessing.Process(target=total(\"hugefile1_100M-4.txt\",\"hugefile2_100M-4.txt\"))\n",
    "    p5 = multiprocessing.Process(target=total(\"hugefile1_100M-5.txt\",\"hugefile2_100M-5.txt\"))\n",
    "    p6 = multiprocessing.Process(target=total(\"hugefile1_100M-6.txt\",\"hugefile2_100M-6.txt\"))\n",
    "    p7 = multiprocessing.Process(target=total(\"hugefile1_100M-7.txt\",\"hugefile2_100M-7.txt\"))\n",
    "    p8 = multiprocessing.Process(target=total(\"hugefile1_100M-8.txt\",\"hugefile2_100M-8.txt\"))\n",
    "    p9 = multiprocessing.Process(target=total(\"hugefile1_100M-9.txt\",\"hugefile2_100M-9.txt\"))\n",
    "    p10 = multiprocessing.Process(target=total(\"hugefile1_100M-10.txt\",\"hugefile2_100M-10.txt\"))\n",
    "    \n",
    "    process_list = [p1,p2,p3,p4,p5,p6,p7,p8,p9,p10]\n",
    "    \n",
    "    # Starts all processes\n",
    "    for p in process_list:\n",
    "        p.start()\n",
    "        \n",
    "    # Forces all processes to finish before finish timer executes\n",
    "    for p in process_list:\n",
    "        p.join()\n",
    " \n",
    "    finish_time = time.perf_counter()\n",
    " \n",
    "    print(f\"Program finished in {round(finish_time-start_time,3)} seconds\")"
   ]
  },
  {
   "cell_type": "code",
   "execution_count": 15,
   "id": "bd78b5c6",
   "metadata": {},
   "outputs": [
    {
     "name": "stderr",
     "output_type": "stream",
     "text": [
      "Process ForkPoolWorker-72:\n",
      "Process ForkPoolWorker-73:\n",
      "Process ForkPoolWorker-76:\n",
      "Process ForkPoolWorker-79:\n",
      "Process ForkPoolWorker-78:\n",
      "Process ForkPoolWorker-74:\n",
      "Process ForkPoolWorker-75:\n",
      "Process ForkPoolWorker-77:\n",
      "Traceback (most recent call last):\n",
      "Traceback (most recent call last):\n",
      "  File \"/home/ken/.local/lib/python3.10/site-packages/multiprocess/process.py\", line 314, in _bootstrap\n",
      "    self.run()\n",
      "Traceback (most recent call last):\n",
      "Traceback (most recent call last):\n",
      "Traceback (most recent call last):\n",
      "Traceback (most recent call last):\n",
      "  File \"/home/ken/.local/lib/python3.10/site-packages/multiprocess/process.py\", line 314, in _bootstrap\n",
      "    self.run()\n",
      "  File \"/home/ken/.local/lib/python3.10/site-packages/multiprocess/process.py\", line 108, in run\n",
      "    self._target(*self._args, **self._kwargs)\n",
      "  File \"/home/ken/.local/lib/python3.10/site-packages/multiprocess/process.py\", line 314, in _bootstrap\n",
      "    self.run()\n",
      "Traceback (most recent call last):\n",
      "  File \"/home/ken/.local/lib/python3.10/site-packages/multiprocess/process.py\", line 314, in _bootstrap\n",
      "    self.run()\n",
      "  File \"/home/ken/.local/lib/python3.10/site-packages/multiprocess/process.py\", line 108, in run\n",
      "    self._target(*self._args, **self._kwargs)\n",
      "  File \"/home/ken/.local/lib/python3.10/site-packages/multiprocess/process.py\", line 314, in _bootstrap\n",
      "    self.run()\n",
      "  File \"/home/ken/.local/lib/python3.10/site-packages/multiprocess/pool.py\", line 125, in worker\n",
      "    result = (True, func(*args, **kwds))\n",
      "Traceback (most recent call last):\n",
      "  File \"/home/ken/.local/lib/python3.10/site-packages/multiprocess/process.py\", line 108, in run\n",
      "    self._target(*self._args, **self._kwargs)\n",
      "  File \"/home/ken/.local/lib/python3.10/site-packages/multiprocess/pool.py\", line 51, in starmapstar\n",
      "    return list(itertools.starmap(args[0], args[1]))\n",
      "  File \"/tmp/ipykernel_2944/2726639267.py\", line 9, in total\n",
      "    x = int(x.strip())\n",
      "  File \"/home/ken/.local/lib/python3.10/site-packages/multiprocess/process.py\", line 108, in run\n",
      "    self._target(*self._args, **self._kwargs)\n",
      "  File \"/home/ken/.local/lib/python3.10/site-packages/multiprocess/process.py\", line 314, in _bootstrap\n",
      "    self.run()\n",
      "  File \"/home/ken/.local/lib/python3.10/site-packages/multiprocess/process.py\", line 314, in _bootstrap\n",
      "    self.run()\n",
      "  File \"/home/ken/.local/lib/python3.10/site-packages/multiprocess/process.py\", line 314, in _bootstrap\n",
      "    self.run()\n",
      "KeyboardInterrupt\n",
      "  File \"/home/ken/.local/lib/python3.10/site-packages/multiprocess/process.py\", line 108, in run\n",
      "    self._target(*self._args, **self._kwargs)\n",
      "  File \"/home/ken/.local/lib/python3.10/site-packages/multiprocess/process.py\", line 108, in run\n",
      "    self._target(*self._args, **self._kwargs)\n",
      "  File \"/home/ken/.local/lib/python3.10/site-packages/multiprocess/pool.py\", line 125, in worker\n",
      "    result = (True, func(*args, **kwds))\n",
      "  File \"/home/ken/.local/lib/python3.10/site-packages/multiprocess/pool.py\", line 125, in worker\n",
      "    result = (True, func(*args, **kwds))\n",
      "  File \"/home/ken/.local/lib/python3.10/site-packages/multiprocess/process.py\", line 108, in run\n",
      "    self._target(*self._args, **self._kwargs)\n",
      "  File \"/home/ken/.local/lib/python3.10/site-packages/multiprocess/pool.py\", line 125, in worker\n",
      "    result = (True, func(*args, **kwds))\n",
      "  File \"/home/ken/.local/lib/python3.10/site-packages/multiprocess/pool.py\", line 125, in worker\n",
      "    result = (True, func(*args, **kwds))\n",
      "  File \"/home/ken/.local/lib/python3.10/site-packages/multiprocess/process.py\", line 108, in run\n",
      "    self._target(*self._args, **self._kwargs)\n",
      "  File \"/home/ken/.local/lib/python3.10/site-packages/multiprocess/pool.py\", line 125, in worker\n",
      "    result = (True, func(*args, **kwds))\n",
      "  File \"/home/ken/.local/lib/python3.10/site-packages/multiprocess/pool.py\", line 51, in starmapstar\n",
      "    return list(itertools.starmap(args[0], args[1]))\n",
      "  File \"/home/ken/.local/lib/python3.10/site-packages/multiprocess/pool.py\", line 125, in worker\n",
      "    result = (True, func(*args, **kwds))\n",
      "  File \"/home/ken/.local/lib/python3.10/site-packages/multiprocess/pool.py\", line 51, in starmapstar\n",
      "    return list(itertools.starmap(args[0], args[1]))\n",
      "  File \"/home/ken/.local/lib/python3.10/site-packages/multiprocess/pool.py\", line 51, in starmapstar\n",
      "    return list(itertools.starmap(args[0], args[1]))\n",
      "  File \"/tmp/ipykernel_2944/2726639267.py\", line 10, in total\n",
      "    y = int(y.strip())\n",
      "  File \"/home/ken/.local/lib/python3.10/site-packages/multiprocess/pool.py\", line 51, in starmapstar\n",
      "    return list(itertools.starmap(args[0], args[1]))\n",
      "  File \"/tmp/ipykernel_2944/2726639267.py\", line 12, in total\n",
      "    newfile.write(str(line_sum))\n",
      "  File \"/tmp/ipykernel_2944/2726639267.py\", line 9, in total\n",
      "    x = int(x.strip())\n",
      "  File \"/home/ken/.local/lib/python3.10/site-packages/multiprocess/pool.py\", line 51, in starmapstar\n",
      "    return list(itertools.starmap(args[0], args[1]))\n",
      "KeyboardInterrupt\n",
      "  File \"/tmp/ipykernel_2944/2726639267.py\", line 9, in total\n",
      "    x = int(x.strip())\n",
      "  File \"/home/ken/.local/lib/python3.10/site-packages/multiprocess/pool.py\", line 125, in worker\n",
      "    result = (True, func(*args, **kwds))\n",
      "KeyboardInterrupt\n",
      "KeyboardInterrupt\n",
      "  File \"/home/ken/.local/lib/python3.10/site-packages/multiprocess/pool.py\", line 51, in starmapstar\n",
      "    return list(itertools.starmap(args[0], args[1]))\n",
      "  File \"/tmp/ipykernel_2944/2726639267.py\", line 13, in total\n",
      "    print(\"\",file=newfile)\n",
      "  File \"/home/ken/.local/lib/python3.10/site-packages/multiprocess/pool.py\", line 51, in starmapstar\n",
      "    return list(itertools.starmap(args[0], args[1]))\n",
      "KeyboardInterrupt\n",
      "  File \"/tmp/ipykernel_2944/2726639267.py\", line 13, in total\n",
      "    print(\"\",file=newfile)\n",
      "KeyboardInterrupt\n",
      "  File \"/tmp/ipykernel_2944/2726639267.py\", line 13, in total\n",
      "    print(\"\",file=newfile)\n",
      "KeyboardInterrupt\n",
      "KeyboardInterrupt\n",
      "Process ForkPoolWorker-93:\n",
      "Process ForkPoolWorker-89:\n",
      "Process ForkPoolWorker-83:\n",
      "Process ForkPoolWorker-94:\n",
      "Process ForkPoolWorker-86:\n",
      "Exception ignored in: <Finalize object, dead>\n",
      "Traceback (most recent call last):\n",
      "  File \"/home/ken/.local/lib/python3.10/site-packages/multiprocess/util.py\", line 224, in __call__\n",
      "    res = self._callback(*self._args, **self._kwargs)\n",
      "  File \"/home/ken/.local/lib/python3.10/site-packages/multiprocess/pool.py\", line 695, in _terminate_pool\n",
      "    cls._help_stuff_finish(inqueue, task_handler, len(pool))\n",
      "  File \"/home/ken/.local/lib/python3.10/site-packages/multiprocess/pool.py\", line 675, in _help_stuff_finish\n",
      "    inqueue._rlock.acquire()\n",
      "KeyboardInterrupt: \n",
      "Process ForkPoolWorker-90:\n",
      "Process ForkPoolWorker-98:\n",
      "Process ForkPoolWorker-95:\n",
      "Process ForkPoolWorker-85:\n",
      "Traceback (most recent call last):\n",
      "Process ForkPoolWorker-88:\n",
      "Process ForkPoolWorker-84:\n",
      "Traceback (most recent call last):\n",
      "Process ForkPoolWorker-87:\n",
      "Traceback (most recent call last):\n",
      "Traceback (most recent call last):\n",
      "Process ForkPoolWorker-80:\n",
      "  File \"/home/ken/.local/lib/python3.10/site-packages/multiprocess/process.py\", line 108, in run\n",
      "    self._target(*self._args, **self._kwargs)\n",
      "  File \"/home/ken/.local/lib/python3.10/site-packages/multiprocess/synchronize.py\", line 101, in __enter__\n",
      "    return self._semlock.__enter__()\n",
      "Process ForkPoolWorker-82:\n",
      "Process ForkPoolWorker-81:\n",
      "Process ForkPoolWorker-91:\n",
      "Traceback (most recent call last):\n",
      "Traceback (most recent call last):\n",
      "Process ForkPoolWorker-96:\n",
      "Process ForkPoolWorker-97:\n",
      "Traceback (most recent call last):\n",
      "Traceback (most recent call last):\n",
      "Traceback (most recent call last):\n",
      "Process ForkPoolWorker-92:\n",
      "Traceback (most recent call last):\n",
      "Traceback (most recent call last):\n",
      "  File \"/home/ken/.local/lib/python3.10/site-packages/multiprocess/process.py\", line 314, in _bootstrap\n",
      "    self.run()\n",
      "Traceback (most recent call last):\n"
     ]
    },
    {
     "ename": "KeyboardInterrupt",
     "evalue": "",
     "output_type": "error",
     "traceback": [
      "\u001b[0;31m---------------------------------------------------------------------------\u001b[0m",
      "\u001b[0;31mKeyboardInterrupt\u001b[0m                         Traceback (most recent call last)",
      "Cell \u001b[0;32mIn[15], line 32\u001b[0m\n\u001b[1;32m     29\u001b[0m pool \u001b[38;5;241m=\u001b[39m multiprocess\u001b[38;5;241m.\u001b[39mPool(multiprocess\u001b[38;5;241m.\u001b[39mcpu_count())\n\u001b[1;32m     30\u001b[0m \u001b[38;5;66;03m#pool = multiprocess.Pool(8)\u001b[39;00m\n\u001b[1;32m     31\u001b[0m \u001b[38;5;66;03m#pool.map(total,[(\"hugefile1.txt\",\"hugefile2.txt\")])\u001b[39;00m\n\u001b[0;32m---> 32\u001b[0m \u001b[43mpool\u001b[49m\u001b[38;5;241;43m.\u001b[39;49m\u001b[43mstarmap\u001b[49m\u001b[43m(\u001b[49m\u001b[43mfunc\u001b[49m\u001b[38;5;241;43m=\u001b[39;49m\u001b[43mtotal\u001b[49m\u001b[43m,\u001b[49m\u001b[43m \u001b[49m\u001b[43miterable\u001b[49m\u001b[38;5;241;43m=\u001b[39;49m\u001b[43m[\u001b[49m\u001b[43m(\u001b[49m\u001b[38;5;124;43m\"\u001b[39;49m\u001b[38;5;124;43mhugefile1_100M-1.txt\u001b[39;49m\u001b[38;5;124;43m\"\u001b[39;49m\u001b[43m,\u001b[49m\u001b[38;5;124;43m\"\u001b[39;49m\u001b[38;5;124;43mhugefile2_100M-1.txt\u001b[39;49m\u001b[38;5;124;43m\"\u001b[39;49m\u001b[43m)\u001b[49m\u001b[43m,\u001b[49m\n\u001b[1;32m     33\u001b[0m \u001b[43m                                  \u001b[49m\u001b[43m(\u001b[49m\u001b[38;5;124;43m\"\u001b[39;49m\u001b[38;5;124;43mhugefile1_100M-2.txt\u001b[39;49m\u001b[38;5;124;43m\"\u001b[39;49m\u001b[43m,\u001b[49m\u001b[38;5;124;43m\"\u001b[39;49m\u001b[38;5;124;43mhugefile2_100M-2.txt\u001b[39;49m\u001b[38;5;124;43m\"\u001b[39;49m\u001b[43m)\u001b[49m\u001b[43m,\u001b[49m\n\u001b[1;32m     34\u001b[0m \u001b[43m                                  \u001b[49m\u001b[43m(\u001b[49m\u001b[38;5;124;43m\"\u001b[39;49m\u001b[38;5;124;43mhugefile1_100M-3.txt\u001b[39;49m\u001b[38;5;124;43m\"\u001b[39;49m\u001b[43m,\u001b[49m\u001b[38;5;124;43m\"\u001b[39;49m\u001b[38;5;124;43mhugefile2_100M-3.txt\u001b[39;49m\u001b[38;5;124;43m\"\u001b[39;49m\u001b[43m)\u001b[49m\u001b[43m,\u001b[49m\n\u001b[1;32m     35\u001b[0m \u001b[43m                                  \u001b[49m\u001b[43m(\u001b[49m\u001b[38;5;124;43m\"\u001b[39;49m\u001b[38;5;124;43mhugefile1_100M-4.txt\u001b[39;49m\u001b[38;5;124;43m\"\u001b[39;49m\u001b[43m,\u001b[49m\u001b[38;5;124;43m\"\u001b[39;49m\u001b[38;5;124;43mhugefile2_100M-4.txt\u001b[39;49m\u001b[38;5;124;43m\"\u001b[39;49m\u001b[43m)\u001b[49m\u001b[43m,\u001b[49m\n\u001b[1;32m     36\u001b[0m \u001b[43m                                  \u001b[49m\u001b[43m(\u001b[49m\u001b[38;5;124;43m\"\u001b[39;49m\u001b[38;5;124;43mhugefile1_100M-5.txt\u001b[39;49m\u001b[38;5;124;43m\"\u001b[39;49m\u001b[43m,\u001b[49m\u001b[38;5;124;43m\"\u001b[39;49m\u001b[38;5;124;43mhugefile2_100M-5.txt\u001b[39;49m\u001b[38;5;124;43m\"\u001b[39;49m\u001b[43m)\u001b[49m\u001b[43m,\u001b[49m\n\u001b[1;32m     37\u001b[0m \u001b[43m                                  \u001b[49m\u001b[43m(\u001b[49m\u001b[38;5;124;43m\"\u001b[39;49m\u001b[38;5;124;43mhugefile1_100M-6.txt\u001b[39;49m\u001b[38;5;124;43m\"\u001b[39;49m\u001b[43m,\u001b[49m\u001b[38;5;124;43m\"\u001b[39;49m\u001b[38;5;124;43mhugefile2_100M-6.txt\u001b[39;49m\u001b[38;5;124;43m\"\u001b[39;49m\u001b[43m)\u001b[49m\u001b[43m,\u001b[49m\n\u001b[1;32m     38\u001b[0m \u001b[43m                                  \u001b[49m\u001b[43m(\u001b[49m\u001b[38;5;124;43m\"\u001b[39;49m\u001b[38;5;124;43mhugefile1_100M-7.txt\u001b[39;49m\u001b[38;5;124;43m\"\u001b[39;49m\u001b[43m,\u001b[49m\u001b[38;5;124;43m\"\u001b[39;49m\u001b[38;5;124;43mhugefile2_100M-7.txt\u001b[39;49m\u001b[38;5;124;43m\"\u001b[39;49m\u001b[43m)\u001b[49m\u001b[43m,\u001b[49m\n\u001b[1;32m     39\u001b[0m \u001b[43m                                  \u001b[49m\u001b[43m(\u001b[49m\u001b[38;5;124;43m\"\u001b[39;49m\u001b[38;5;124;43mhugefile1_100M-8.txt\u001b[39;49m\u001b[38;5;124;43m\"\u001b[39;49m\u001b[43m,\u001b[49m\u001b[38;5;124;43m\"\u001b[39;49m\u001b[38;5;124;43mhugefile2_100M-8.txt\u001b[39;49m\u001b[38;5;124;43m\"\u001b[39;49m\u001b[43m)\u001b[49m\u001b[43m,\u001b[49m\n\u001b[1;32m     40\u001b[0m \u001b[43m                                  \u001b[49m\u001b[43m(\u001b[49m\u001b[38;5;124;43m\"\u001b[39;49m\u001b[38;5;124;43mhugefile1_100M-9.txt\u001b[39;49m\u001b[38;5;124;43m\"\u001b[39;49m\u001b[43m,\u001b[49m\u001b[38;5;124;43m\"\u001b[39;49m\u001b[38;5;124;43mhugefile2_100M-9.txt\u001b[39;49m\u001b[38;5;124;43m\"\u001b[39;49m\u001b[43m)\u001b[49m\u001b[43m,\u001b[49m\n\u001b[1;32m     41\u001b[0m \u001b[43m                                  \u001b[49m\u001b[43m(\u001b[49m\u001b[38;5;124;43m\"\u001b[39;49m\u001b[38;5;124;43mhugefile1_100M-10.txt\u001b[39;49m\u001b[38;5;124;43m\"\u001b[39;49m\u001b[43m,\u001b[49m\u001b[38;5;124;43m\"\u001b[39;49m\u001b[38;5;124;43mhugefile2_100M-10.txt\u001b[39;49m\u001b[38;5;124;43m\"\u001b[39;49m\u001b[43m)\u001b[49m\u001b[43m]\u001b[49m\u001b[43m)\u001b[49m\n\u001b[1;32m     43\u001b[0m pool\u001b[38;5;241m.\u001b[39mclose()\n\u001b[1;32m     45\u001b[0m finish_time \u001b[38;5;241m=\u001b[39m time\u001b[38;5;241m.\u001b[39mperf_counter()\n",
      "File \u001b[0;32m~/.local/lib/python3.10/site-packages/multiprocess/pool.py:375\u001b[0m, in \u001b[0;36mPool.starmap\u001b[0;34m(self, func, iterable, chunksize)\u001b[0m\n\u001b[1;32m    369\u001b[0m \u001b[38;5;28;01mdef\u001b[39;00m \u001b[38;5;21mstarmap\u001b[39m(\u001b[38;5;28mself\u001b[39m, func, iterable, chunksize\u001b[38;5;241m=\u001b[39m\u001b[38;5;28;01mNone\u001b[39;00m):\n\u001b[1;32m    370\u001b[0m     \u001b[38;5;124;03m'''\u001b[39;00m\n\u001b[1;32m    371\u001b[0m \u001b[38;5;124;03m    Like `map()` method but the elements of the `iterable` are expected to\u001b[39;00m\n\u001b[1;32m    372\u001b[0m \u001b[38;5;124;03m    be iterables as well and will be unpacked as arguments. Hence\u001b[39;00m\n\u001b[1;32m    373\u001b[0m \u001b[38;5;124;03m    `func` and (a, b) becomes func(a, b).\u001b[39;00m\n\u001b[1;32m    374\u001b[0m \u001b[38;5;124;03m    '''\u001b[39;00m\n\u001b[0;32m--> 375\u001b[0m     \u001b[38;5;28;01mreturn\u001b[39;00m \u001b[38;5;28;43mself\u001b[39;49m\u001b[38;5;241;43m.\u001b[39;49m\u001b[43m_map_async\u001b[49m\u001b[43m(\u001b[49m\u001b[43mfunc\u001b[49m\u001b[43m,\u001b[49m\u001b[43m \u001b[49m\u001b[43miterable\u001b[49m\u001b[43m,\u001b[49m\u001b[43m \u001b[49m\u001b[43mstarmapstar\u001b[49m\u001b[43m,\u001b[49m\u001b[43m \u001b[49m\u001b[43mchunksize\u001b[49m\u001b[43m)\u001b[49m\u001b[38;5;241;43m.\u001b[39;49m\u001b[43mget\u001b[49m\u001b[43m(\u001b[49m\u001b[43m)\u001b[49m\n",
      "File \u001b[0;32m~/.local/lib/python3.10/site-packages/multiprocess/pool.py:768\u001b[0m, in \u001b[0;36mApplyResult.get\u001b[0;34m(self, timeout)\u001b[0m\n\u001b[1;32m    767\u001b[0m \u001b[38;5;28;01mdef\u001b[39;00m \u001b[38;5;21mget\u001b[39m(\u001b[38;5;28mself\u001b[39m, timeout\u001b[38;5;241m=\u001b[39m\u001b[38;5;28;01mNone\u001b[39;00m):\n\u001b[0;32m--> 768\u001b[0m     \u001b[38;5;28;43mself\u001b[39;49m\u001b[38;5;241;43m.\u001b[39;49m\u001b[43mwait\u001b[49m\u001b[43m(\u001b[49m\u001b[43mtimeout\u001b[49m\u001b[43m)\u001b[49m\n\u001b[1;32m    769\u001b[0m     \u001b[38;5;28;01mif\u001b[39;00m \u001b[38;5;129;01mnot\u001b[39;00m \u001b[38;5;28mself\u001b[39m\u001b[38;5;241m.\u001b[39mready():\n\u001b[1;32m    770\u001b[0m         \u001b[38;5;28;01mraise\u001b[39;00m \u001b[38;5;167;01mTimeoutError\u001b[39;00m\n",
      "File \u001b[0;32m~/.local/lib/python3.10/site-packages/multiprocess/pool.py:765\u001b[0m, in \u001b[0;36mApplyResult.wait\u001b[0;34m(self, timeout)\u001b[0m\n\u001b[1;32m    764\u001b[0m \u001b[38;5;28;01mdef\u001b[39;00m \u001b[38;5;21mwait\u001b[39m(\u001b[38;5;28mself\u001b[39m, timeout\u001b[38;5;241m=\u001b[39m\u001b[38;5;28;01mNone\u001b[39;00m):\n\u001b[0;32m--> 765\u001b[0m     \u001b[38;5;28;43mself\u001b[39;49m\u001b[38;5;241;43m.\u001b[39;49m\u001b[43m_event\u001b[49m\u001b[38;5;241;43m.\u001b[39;49m\u001b[43mwait\u001b[49m\u001b[43m(\u001b[49m\u001b[43mtimeout\u001b[49m\u001b[43m)\u001b[49m\n",
      "File \u001b[0;32m/usr/lib/python3.10/threading.py:607\u001b[0m, in \u001b[0;36mEvent.wait\u001b[0;34m(self, timeout)\u001b[0m\n\u001b[1;32m    605\u001b[0m signaled \u001b[38;5;241m=\u001b[39m \u001b[38;5;28mself\u001b[39m\u001b[38;5;241m.\u001b[39m_flag\n\u001b[1;32m    606\u001b[0m \u001b[38;5;28;01mif\u001b[39;00m \u001b[38;5;129;01mnot\u001b[39;00m signaled:\n\u001b[0;32m--> 607\u001b[0m     signaled \u001b[38;5;241m=\u001b[39m \u001b[38;5;28;43mself\u001b[39;49m\u001b[38;5;241;43m.\u001b[39;49m\u001b[43m_cond\u001b[49m\u001b[38;5;241;43m.\u001b[39;49m\u001b[43mwait\u001b[49m\u001b[43m(\u001b[49m\u001b[43mtimeout\u001b[49m\u001b[43m)\u001b[49m\n\u001b[1;32m    608\u001b[0m \u001b[38;5;28;01mreturn\u001b[39;00m signaled\n",
      "File \u001b[0;32m/usr/lib/python3.10/threading.py:320\u001b[0m, in \u001b[0;36mCondition.wait\u001b[0;34m(self, timeout)\u001b[0m\n\u001b[1;32m    318\u001b[0m \u001b[38;5;28;01mtry\u001b[39;00m:    \u001b[38;5;66;03m# restore state no matter what (e.g., KeyboardInterrupt)\u001b[39;00m\n\u001b[1;32m    319\u001b[0m     \u001b[38;5;28;01mif\u001b[39;00m timeout \u001b[38;5;129;01mis\u001b[39;00m \u001b[38;5;28;01mNone\u001b[39;00m:\n\u001b[0;32m--> 320\u001b[0m         \u001b[43mwaiter\u001b[49m\u001b[38;5;241;43m.\u001b[39;49m\u001b[43macquire\u001b[49m\u001b[43m(\u001b[49m\u001b[43m)\u001b[49m\n\u001b[1;32m    321\u001b[0m         gotit \u001b[38;5;241m=\u001b[39m \u001b[38;5;28;01mTrue\u001b[39;00m\n\u001b[1;32m    322\u001b[0m     \u001b[38;5;28;01melse\u001b[39;00m:\n",
      "\u001b[0;31mKeyboardInterrupt\u001b[0m: "
     ]
    },
    {
     "name": "stderr",
     "output_type": "stream",
     "text": [
      "  File \"/home/ken/.local/lib/python3.10/site-packages/multiprocess/process.py\", line 314, in _bootstrap\n",
      "    self.run()\n",
      "Traceback (most recent call last):\n",
      "  File \"/home/ken/.local/lib/python3.10/site-packages/multiprocess/process.py\", line 314, in _bootstrap\n",
      "    self.run()\n",
      "Traceback (most recent call last):\n",
      "  File \"/home/ken/.local/lib/python3.10/site-packages/multiprocess/process.py\", line 314, in _bootstrap\n",
      "    self.run()\n",
      "  File \"/home/ken/.local/lib/python3.10/site-packages/multiprocess/process.py\", line 314, in _bootstrap\n",
      "    self.run()\n",
      "  File \"/home/ken/.local/lib/python3.10/site-packages/multiprocess/process.py\", line 314, in _bootstrap\n",
      "    self.run()\n",
      "  File \"/home/ken/.local/lib/python3.10/site-packages/multiprocess/process.py\", line 314, in _bootstrap\n",
      "    self.run()\n",
      "  File \"/home/ken/.local/lib/python3.10/site-packages/multiprocess/process.py\", line 108, in run\n",
      "    self._target(*self._args, **self._kwargs)\n",
      "  File \"/home/ken/.local/lib/python3.10/site-packages/multiprocess/process.py\", line 108, in run\n",
      "    self._target(*self._args, **self._kwargs)\n",
      "  File \"/home/ken/.local/lib/python3.10/site-packages/multiprocess/process.py\", line 108, in run\n",
      "    self._target(*self._args, **self._kwargs)\n",
      "  File \"/home/ken/.local/lib/python3.10/site-packages/multiprocess/process.py\", line 108, in run\n",
      "    self._target(*self._args, **self._kwargs)\n",
      "  File \"/home/ken/.local/lib/python3.10/site-packages/multiprocess/pool.py\", line 114, in worker\n",
      "    task = get()\n",
      "  File \"/home/ken/.local/lib/python3.10/site-packages/multiprocess/queues.py\", line 367, in get\n",
      "    with self._rlock:\n",
      "  File \"/home/ken/.local/lib/python3.10/site-packages/multiprocess/process.py\", line 314, in _bootstrap\n",
      "    self.run()\n",
      "  File \"/home/ken/.local/lib/python3.10/site-packages/multiprocess/process.py\", line 314, in _bootstrap\n",
      "    self.run()\n",
      "  File \"/home/ken/.local/lib/python3.10/site-packages/multiprocess/pool.py\", line 114, in worker\n",
      "    task = get()\n",
      "  File \"/home/ken/.local/lib/python3.10/site-packages/multiprocess/pool.py\", line 114, in worker\n",
      "    task = get()\n",
      "  File \"/home/ken/.local/lib/python3.10/site-packages/multiprocess/synchronize.py\", line 101, in __enter__\n",
      "    return self._semlock.__enter__()\n",
      "  File \"/home/ken/.local/lib/python3.10/site-packages/multiprocess/process.py\", line 108, in run\n",
      "    self._target(*self._args, **self._kwargs)\n",
      "  File \"/home/ken/.local/lib/python3.10/site-packages/multiprocess/process.py\", line 314, in _bootstrap\n",
      "    self.run()\n",
      "Traceback (most recent call last):\n",
      "  File \"/home/ken/.local/lib/python3.10/site-packages/multiprocess/process.py\", line 108, in run\n",
      "    self._target(*self._args, **self._kwargs)\n",
      "  File \"/home/ken/.local/lib/python3.10/site-packages/multiprocess/pool.py\", line 114, in worker\n",
      "    task = get()\n",
      "  File \"/home/ken/.local/lib/python3.10/site-packages/multiprocess/queues.py\", line 367, in get\n",
      "    with self._rlock:\n",
      "  File \"/home/ken/.local/lib/python3.10/site-packages/multiprocess/pool.py\", line 114, in worker\n",
      "    task = get()\n",
      "Traceback (most recent call last):\n",
      "Traceback (most recent call last):\n",
      "  File \"/home/ken/.local/lib/python3.10/site-packages/multiprocess/process.py\", line 314, in _bootstrap\n",
      "    self.run()\n",
      "  File \"/home/ken/.local/lib/python3.10/site-packages/multiprocess/process.py\", line 314, in _bootstrap\n",
      "    self.run()\n",
      "  File \"/home/ken/.local/lib/python3.10/site-packages/multiprocess/process.py\", line 314, in _bootstrap\n",
      "    self.run()\n",
      "  File \"/home/ken/.local/lib/python3.10/site-packages/multiprocess/process.py\", line 108, in run\n",
      "    self._target(*self._args, **self._kwargs)\n",
      "  File \"/home/ken/.local/lib/python3.10/site-packages/multiprocess/queues.py\", line 367, in get\n",
      "    with self._rlock:\n",
      "  File \"/home/ken/.local/lib/python3.10/site-packages/multiprocess/process.py\", line 108, in run\n",
      "    self._target(*self._args, **self._kwargs)\n",
      "  File \"/home/ken/.local/lib/python3.10/site-packages/multiprocess/process.py\", line 108, in run\n",
      "    self._target(*self._args, **self._kwargs)\n",
      "KeyboardInterrupt\n",
      "  File \"/home/ken/.local/lib/python3.10/site-packages/multiprocess/synchronize.py\", line 101, in __enter__\n",
      "    return self._semlock.__enter__()\n",
      "  File \"/home/ken/.local/lib/python3.10/site-packages/multiprocess/process.py\", line 314, in _bootstrap\n",
      "    self.run()\n",
      "  File \"/home/ken/.local/lib/python3.10/site-packages/multiprocess/process.py\", line 108, in run\n",
      "    self._target(*self._args, **self._kwargs)\n",
      "  File \"/home/ken/.local/lib/python3.10/site-packages/multiprocess/pool.py\", line 114, in worker\n",
      "    task = get()\n",
      "  File \"/home/ken/.local/lib/python3.10/site-packages/multiprocess/synchronize.py\", line 101, in __enter__\n",
      "    return self._semlock.__enter__()\n",
      "  File \"/home/ken/.local/lib/python3.10/site-packages/multiprocess/pool.py\", line 114, in worker\n",
      "    task = get()\n",
      "  File \"/home/ken/.local/lib/python3.10/site-packages/multiprocess/pool.py\", line 114, in worker\n",
      "    task = get()\n",
      "  File \"/home/ken/.local/lib/python3.10/site-packages/multiprocess/process.py\", line 314, in _bootstrap\n",
      "    self.run()\n",
      "  File \"/home/ken/.local/lib/python3.10/site-packages/multiprocess/process.py\", line 108, in run\n",
      "    self._target(*self._args, **self._kwargs)\n",
      "  File \"/home/ken/.local/lib/python3.10/site-packages/multiprocess/queues.py\", line 367, in get\n",
      "    with self._rlock:\n",
      "KeyboardInterrupt\n",
      "  File \"/home/ken/.local/lib/python3.10/site-packages/multiprocess/process.py\", line 108, in run\n",
      "    self._target(*self._args, **self._kwargs)\n",
      "  File \"/home/ken/.local/lib/python3.10/site-packages/multiprocess/process.py\", line 314, in _bootstrap\n",
      "    self.run()\n",
      "Traceback (most recent call last):\n",
      "  File \"/home/ken/.local/lib/python3.10/site-packages/multiprocess/pool.py\", line 125, in worker\n",
      "    result = (True, func(*args, **kwds))\n",
      "  File \"/home/ken/.local/lib/python3.10/site-packages/multiprocess/queues.py\", line 367, in get\n",
      "    with self._rlock:\n",
      "  File \"/home/ken/.local/lib/python3.10/site-packages/multiprocess/synchronize.py\", line 101, in __enter__\n",
      "    return self._semlock.__enter__()\n",
      "  File \"/home/ken/.local/lib/python3.10/site-packages/multiprocess/pool.py\", line 51, in starmapstar\n",
      "    return list(itertools.starmap(args[0], args[1]))\n",
      "  File \"/home/ken/.local/lib/python3.10/site-packages/multiprocess/process.py\", line 108, in run\n",
      "    self._target(*self._args, **self._kwargs)\n",
      "  File \"/home/ken/.local/lib/python3.10/site-packages/multiprocess/queues.py\", line 367, in get\n",
      "    with self._rlock:\n",
      "  File \"/home/ken/.local/lib/python3.10/site-packages/multiprocess/queues.py\", line 368, in get\n",
      "    res = self._reader.recv_bytes()\n",
      "  File \"/home/ken/.local/lib/python3.10/site-packages/multiprocess/pool.py\", line 114, in worker\n",
      "    task = get()\n",
      "KeyboardInterrupt\n",
      "  File \"/home/ken/.local/lib/python3.10/site-packages/multiprocess/process.py\", line 314, in _bootstrap\n",
      "    self.run()\n",
      "  File \"/home/ken/.local/lib/python3.10/site-packages/multiprocess/pool.py\", line 114, in worker\n",
      "    task = get()\n",
      "  File \"/home/ken/.local/lib/python3.10/site-packages/multiprocess/synchronize.py\", line 101, in __enter__\n",
      "    return self._semlock.__enter__()\n",
      "KeyboardInterrupt\n",
      "Traceback (most recent call last):\n",
      "  File \"/home/ken/.local/lib/python3.10/site-packages/multiprocess/pool.py\", line 114, in worker\n",
      "    task = get()\n",
      "  File \"/home/ken/.local/lib/python3.10/site-packages/multiprocess/connection.py\", line 224, in recv_bytes\n",
      "    buf = self._recv_bytes(maxlength)\n",
      "  File \"/home/ken/.local/lib/python3.10/site-packages/multiprocess/queues.py\", line 367, in get\n",
      "    with self._rlock:\n",
      "  File \"/home/ken/.local/lib/python3.10/site-packages/multiprocess/queues.py\", line 367, in get\n",
      "    with self._rlock:\n",
      "  File \"/home/ken/.local/lib/python3.10/site-packages/multiprocess/synchronize.py\", line 101, in __enter__\n",
      "    return self._semlock.__enter__()\n",
      "  File \"/home/ken/.local/lib/python3.10/site-packages/multiprocess/process.py\", line 108, in run\n",
      "    self._target(*self._args, **self._kwargs)\n",
      "KeyboardInterrupt\n",
      "  File \"/tmp/ipykernel_2944/2726639267.py\", line 9, in total\n",
      "    x = int(x.strip())\n",
      "  File \"/home/ken/.local/lib/python3.10/site-packages/multiprocess/queues.py\", line 367, in get\n",
      "    with self._rlock:\n",
      "  File \"/home/ken/.local/lib/python3.10/site-packages/multiprocess/process.py\", line 314, in _bootstrap\n",
      "    self.run()\n"
     ]
    },
    {
     "name": "stderr",
     "output_type": "stream",
     "text": [
      "  File \"/home/ken/.local/lib/python3.10/site-packages/multiprocess/pool.py\", line 114, in worker\n",
      "    task = get()\n",
      "  File \"/home/ken/.local/lib/python3.10/site-packages/multiprocess/synchronize.py\", line 101, in __enter__\n",
      "    return self._semlock.__enter__()\n",
      "  File \"/home/ken/.local/lib/python3.10/site-packages/multiprocess/connection.py\", line 422, in _recv_bytes\n",
      "    buf = self._recv(4)\n",
      "  File \"/home/ken/.local/lib/python3.10/site-packages/multiprocess/synchronize.py\", line 101, in __enter__\n",
      "    return self._semlock.__enter__()\n",
      "  File \"/home/ken/.local/lib/python3.10/site-packages/multiprocess/synchronize.py\", line 101, in __enter__\n",
      "    return self._semlock.__enter__()\n",
      "KeyboardInterrupt\n",
      "  File \"/home/ken/.local/lib/python3.10/site-packages/multiprocess/process.py\", line 108, in run\n",
      "    self._target(*self._args, **self._kwargs)\n",
      "  File \"/home/ken/.local/lib/python3.10/site-packages/multiprocess/pool.py\", line 114, in worker\n",
      "    task = get()\n",
      "KeyboardInterrupt\n",
      "  File \"/home/ken/.local/lib/python3.10/site-packages/multiprocess/queues.py\", line 367, in get\n",
      "    with self._rlock:\n",
      "KeyboardInterrupt\n",
      "KeyboardInterrupt\n",
      "  File \"/home/ken/.local/lib/python3.10/site-packages/multiprocess/process.py\", line 108, in run\n",
      "    self._target(*self._args, **self._kwargs)\n",
      "  File \"/home/ken/.local/lib/python3.10/site-packages/multiprocess/process.py\", line 108, in run\n",
      "    self._target(*self._args, **self._kwargs)\n",
      "  File \"/home/ken/.local/lib/python3.10/site-packages/multiprocess/connection.py\", line 387, in _recv\n",
      "    chunk = read(handle, remaining)\n",
      "  File \"/home/ken/.local/lib/python3.10/site-packages/multiprocess/process.py\", line 314, in _bootstrap\n",
      "    self.run()\n",
      "KeyboardInterrupt\n",
      "  File \"/home/ken/.local/lib/python3.10/site-packages/multiprocess/queues.py\", line 367, in get\n",
      "    with self._rlock:\n",
      "  File \"/home/ken/.local/lib/python3.10/site-packages/multiprocess/pool.py\", line 114, in worker\n",
      "    task = get()\n",
      "  File \"/home/ken/.local/lib/python3.10/site-packages/multiprocess/queues.py\", line 367, in get\n",
      "    with self._rlock:\n",
      "  File \"/home/ken/.local/lib/python3.10/site-packages/multiprocess/synchronize.py\", line 101, in __enter__\n",
      "    return self._semlock.__enter__()\n",
      "  File \"/home/ken/.local/lib/python3.10/site-packages/multiprocess/pool.py\", line 125, in worker\n",
      "    result = (True, func(*args, **kwds))\n",
      "KeyboardInterrupt\n",
      "  File \"/home/ken/.local/lib/python3.10/site-packages/multiprocess/pool.py\", line 114, in worker\n",
      "    task = get()\n",
      "  File \"/home/ken/.local/lib/python3.10/site-packages/multiprocess/pool.py\", line 51, in starmapstar\n",
      "    return list(itertools.starmap(args[0], args[1]))\n",
      "  File \"/home/ken/.local/lib/python3.10/site-packages/multiprocess/process.py\", line 108, in run\n",
      "    self._target(*self._args, **self._kwargs)\n",
      "KeyboardInterrupt\n",
      "  File \"/home/ken/.local/lib/python3.10/site-packages/multiprocess/pool.py\", line 114, in worker\n",
      "    task = get()\n",
      "  File \"/home/ken/.local/lib/python3.10/site-packages/multiprocess/queues.py\", line 367, in get\n",
      "    with self._rlock:\n",
      "  File \"/home/ken/.local/lib/python3.10/site-packages/multiprocess/synchronize.py\", line 101, in __enter__\n",
      "    return self._semlock.__enter__()\n",
      "  File \"/home/ken/.local/lib/python3.10/site-packages/multiprocess/queues.py\", line 368, in get\n",
      "    res = self._reader.recv_bytes()\n",
      "  File \"/home/ken/.local/lib/python3.10/site-packages/multiprocess/synchronize.py\", line 101, in __enter__\n",
      "    return self._semlock.__enter__()\n",
      "  File \"/home/ken/.local/lib/python3.10/site-packages/multiprocess/pool.py\", line 114, in worker\n",
      "    task = get()\n",
      "KeyboardInterrupt\n",
      "  File \"/tmp/ipykernel_2944/2726639267.py\", line 13, in total\n",
      "    print(\"\",file=newfile)\n",
      "KeyboardInterrupt\n",
      "  File \"/home/ken/.local/lib/python3.10/site-packages/multiprocess/queues.py\", line 367, in get\n",
      "    with self._rlock:\n",
      "  File \"/home/ken/.local/lib/python3.10/site-packages/multiprocess/connection.py\", line 224, in recv_bytes\n",
      "    buf = self._recv_bytes(maxlength)\n",
      "KeyboardInterrupt\n",
      "  File \"/home/ken/.local/lib/python3.10/site-packages/multiprocess/connection.py\", line 422, in _recv_bytes\n",
      "    buf = self._recv(4)\n",
      "  File \"/home/ken/.local/lib/python3.10/site-packages/multiprocess/synchronize.py\", line 101, in __enter__\n",
      "    return self._semlock.__enter__()\n",
      "  File \"/home/ken/.local/lib/python3.10/site-packages/multiprocess/connection.py\", line 387, in _recv\n",
      "    chunk = read(handle, remaining)\n",
      "  File \"/home/ken/.local/lib/python3.10/site-packages/multiprocess/queues.py\", line 367, in get\n",
      "    with self._rlock:\n",
      "KeyboardInterrupt\n",
      "KeyboardInterrupt\n",
      "KeyboardInterrupt\n",
      "  File \"/home/ken/.local/lib/python3.10/site-packages/multiprocess/synchronize.py\", line 101, in __enter__\n",
      "    return self._semlock.__enter__()\n",
      "KeyboardInterrupt\n",
      "Process ForkPoolWorker-101:\n",
      "  File \"/home/ken/.local/lib/python3.10/site-packages/multiprocess/process.py\", line 108, in run\n",
      "    self._target(*self._args, **self._kwargs)\n",
      "Process ForkPoolWorker-103:\n",
      "Process ForkPoolWorker-104:\n",
      "Process ForkPoolWorker-110:\n",
      "Process ForkPoolWorker-108:\n",
      "Process ForkPoolWorker-109:\n",
      "Process ForkPoolWorker-105:\n",
      "Process ForkPoolWorker-102:\n",
      "Process ForkPoolWorker-106:\n",
      "Process ForkPoolWorker-100:\n",
      "Traceback (most recent call last):\n",
      "Traceback (most recent call last):\n",
      "Process ForkPoolWorker-107:\n",
      "Process ForkPoolWorker-99:\n",
      "  File \"/home/ken/.local/lib/python3.10/site-packages/multiprocess/process.py\", line 314, in _bootstrap\n",
      "    self.run()\n",
      "Traceback (most recent call last):\n",
      "Traceback (most recent call last):\n",
      "Traceback (most recent call last):\n",
      "Traceback (most recent call last):\n",
      "Traceback (most recent call last):\n",
      "Traceback (most recent call last):\n",
      "Traceback (most recent call last):\n",
      "Traceback (most recent call last):\n",
      "  File \"/home/ken/.local/lib/python3.10/site-packages/multiprocess/process.py\", line 314, in _bootstrap\n",
      "    self.run()\n",
      "  File \"/home/ken/.local/lib/python3.10/site-packages/multiprocess/process.py\", line 314, in _bootstrap\n",
      "    self.run()\n",
      "  File \"/home/ken/.local/lib/python3.10/site-packages/multiprocess/process.py\", line 108, in run\n",
      "    self._target(*self._args, **self._kwargs)\n",
      "  File \"/home/ken/.local/lib/python3.10/site-packages/multiprocess/process.py\", line 314, in _bootstrap\n",
      "    self.run()\n",
      "  File \"/home/ken/.local/lib/python3.10/site-packages/multiprocess/process.py\", line 108, in run\n",
      "    self._target(*self._args, **self._kwargs)\n",
      "  File \"/home/ken/.local/lib/python3.10/site-packages/multiprocess/pool.py\", line 114, in worker\n",
      "    task = get()\n",
      "  File \"/home/ken/.local/lib/python3.10/site-packages/multiprocess/process.py\", line 108, in run\n",
      "    self._target(*self._args, **self._kwargs)\n",
      "  File \"/home/ken/.local/lib/python3.10/site-packages/multiprocess/pool.py\", line 114, in worker\n",
      "    task = get()\n",
      "  File \"/home/ken/.local/lib/python3.10/site-packages/multiprocess/queues.py\", line 367, in get\n",
      "    with self._rlock:\n",
      "  File \"/home/ken/.local/lib/python3.10/site-packages/multiprocess/process.py\", line 314, in _bootstrap\n",
      "    self.run()\n",
      "  File \"/home/ken/.local/lib/python3.10/site-packages/multiprocess/pool.py\", line 114, in worker\n",
      "    task = get()\n",
      "  File \"/home/ken/.local/lib/python3.10/site-packages/multiprocess/process.py\", line 314, in _bootstrap\n",
      "    self.run()\n",
      "Traceback (most recent call last):\n",
      "  File \"/home/ken/.local/lib/python3.10/site-packages/multiprocess/process.py\", line 314, in _bootstrap\n",
      "    self.run()\n",
      "  File \"/home/ken/.local/lib/python3.10/site-packages/multiprocess/process.py\", line 108, in run\n",
      "    self._target(*self._args, **self._kwargs)\n",
      "  File \"/home/ken/.local/lib/python3.10/site-packages/multiprocess/process.py\", line 314, in _bootstrap\n",
      "    self.run()\n",
      "  File \"/home/ken/.local/lib/python3.10/site-packages/multiprocess/process.py\", line 314, in _bootstrap\n",
      "    self.run()\n",
      "  File \"/home/ken/.local/lib/python3.10/site-packages/multiprocess/queues.py\", line 367, in get\n",
      "    with self._rlock:\n",
      "  File \"/home/ken/.local/lib/python3.10/site-packages/multiprocess/process.py\", line 108, in run\n",
      "    self._target(*self._args, **self._kwargs)\n",
      "  File \"/home/ken/.local/lib/python3.10/site-packages/multiprocess/synchronize.py\", line 101, in __enter__\n",
      "    return self._semlock.__enter__()\n",
      "  File \"/home/ken/.local/lib/python3.10/site-packages/multiprocess/queues.py\", line 368, in get\n",
      "    res = self._reader.recv_bytes()\n",
      "  File \"/home/ken/.local/lib/python3.10/site-packages/multiprocess/process.py\", line 108, in run\n",
      "    self._target(*self._args, **self._kwargs)\n"
     ]
    },
    {
     "name": "stderr",
     "output_type": "stream",
     "text": [
      "KeyboardInterrupt\n",
      "  File \"/home/ken/.local/lib/python3.10/site-packages/multiprocess/process.py\", line 314, in _bootstrap\n",
      "    self.run()\n",
      "  File \"/home/ken/.local/lib/python3.10/site-packages/multiprocess/pool.py\", line 114, in worker\n",
      "    task = get()\n",
      "  File \"/home/ken/.local/lib/python3.10/site-packages/multiprocess/synchronize.py\", line 101, in __enter__\n",
      "    return self._semlock.__enter__()\n",
      "  File \"/home/ken/.local/lib/python3.10/site-packages/multiprocess/pool.py\", line 114, in worker\n",
      "    task = get()\n",
      "  File \"/home/ken/.local/lib/python3.10/site-packages/multiprocess/connection.py\", line 224, in recv_bytes\n",
      "    buf = self._recv_bytes(maxlength)\n",
      "  File \"/home/ken/.local/lib/python3.10/site-packages/multiprocess/pool.py\", line 114, in worker\n",
      "    task = get()\n",
      "  File \"/home/ken/.local/lib/python3.10/site-packages/multiprocess/process.py\", line 314, in _bootstrap\n",
      "    self.run()\n",
      "  File \"/home/ken/.local/lib/python3.10/site-packages/multiprocess/process.py\", line 108, in run\n",
      "    self._target(*self._args, **self._kwargs)\n",
      "  File \"/home/ken/.local/lib/python3.10/site-packages/multiprocess/pool.py\", line 114, in worker\n",
      "    task = get()\n",
      "Traceback (most recent call last):\n",
      "  File \"/home/ken/.local/lib/python3.10/site-packages/multiprocess/queues.py\", line 367, in get\n",
      "    with self._rlock:\n",
      "  File \"/home/ken/.local/lib/python3.10/site-packages/multiprocess/process.py\", line 108, in run\n",
      "    self._target(*self._args, **self._kwargs)\n",
      "KeyboardInterrupt\n",
      "  File \"/home/ken/.local/lib/python3.10/site-packages/multiprocess/process.py\", line 108, in run\n",
      "    self._target(*self._args, **self._kwargs)\n",
      "  File \"/home/ken/.local/lib/python3.10/site-packages/multiprocess/queues.py\", line 367, in get\n",
      "    with self._rlock:\n",
      "  File \"/home/ken/.local/lib/python3.10/site-packages/multiprocess/queues.py\", line 367, in get\n",
      "    with self._rlock:\n",
      "  File \"/home/ken/.local/lib/python3.10/site-packages/multiprocess/pool.py\", line 114, in worker\n",
      "    task = get()\n",
      "  File \"/home/ken/.local/lib/python3.10/site-packages/multiprocess/pool.py\", line 114, in worker\n",
      "    task = get()\n",
      "  File \"/home/ken/.local/lib/python3.10/site-packages/multiprocess/synchronize.py\", line 101, in __enter__\n",
      "    return self._semlock.__enter__()\n",
      "  File \"/home/ken/.local/lib/python3.10/site-packages/multiprocess/synchronize.py\", line 101, in __enter__\n",
      "    return self._semlock.__enter__()\n",
      "  File \"/home/ken/.local/lib/python3.10/site-packages/multiprocess/synchronize.py\", line 101, in __enter__\n",
      "    return self._semlock.__enter__()\n",
      "  File \"/home/ken/.local/lib/python3.10/site-packages/multiprocess/process.py\", line 314, in _bootstrap\n",
      "    self.run()\n",
      "  File \"/home/ken/.local/lib/python3.10/site-packages/multiprocess/queues.py\", line 367, in get\n",
      "    with self._rlock:\n",
      "KeyboardInterrupt\n",
      "  File \"/home/ken/.local/lib/python3.10/site-packages/multiprocess/queues.py\", line 367, in get\n",
      "    with self._rlock:\n",
      "  File \"/home/ken/.local/lib/python3.10/site-packages/multiprocess/connection.py\", line 422, in _recv_bytes\n",
      "    buf = self._recv(4)\n",
      "  File \"/home/ken/.local/lib/python3.10/site-packages/multiprocess/queues.py\", line 367, in get\n",
      "    with self._rlock:\n",
      "  File \"/home/ken/.local/lib/python3.10/site-packages/multiprocess/process.py\", line 108, in run\n",
      "    self._target(*self._args, **self._kwargs)\n",
      "  File \"/home/ken/.local/lib/python3.10/site-packages/multiprocess/pool.py\", line 114, in worker\n",
      "    task = get()\n",
      "  File \"/home/ken/.local/lib/python3.10/site-packages/multiprocess/synchronize.py\", line 101, in __enter__\n",
      "    return self._semlock.__enter__()\n",
      "KeyboardInterrupt\n",
      "KeyboardInterrupt\n",
      "  File \"/home/ken/.local/lib/python3.10/site-packages/multiprocess/synchronize.py\", line 101, in __enter__\n",
      "    return self._semlock.__enter__()\n",
      "  File \"/home/ken/.local/lib/python3.10/site-packages/multiprocess/queues.py\", line 367, in get\n",
      "    with self._rlock:\n",
      "  File \"/home/ken/.local/lib/python3.10/site-packages/multiprocess/synchronize.py\", line 101, in __enter__\n",
      "    return self._semlock.__enter__()\n",
      "  File \"/home/ken/.local/lib/python3.10/site-packages/multiprocess/synchronize.py\", line 101, in __enter__\n",
      "    return self._semlock.__enter__()\n",
      "  File \"/home/ken/.local/lib/python3.10/site-packages/multiprocess/process.py\", line 108, in run\n",
      "    self._target(*self._args, **self._kwargs)\n",
      "  File \"/home/ken/.local/lib/python3.10/site-packages/multiprocess/pool.py\", line 114, in worker\n",
      "    task = get()\n",
      "KeyboardInterrupt\n",
      "KeyboardInterrupt\n",
      "  File \"/home/ken/.local/lib/python3.10/site-packages/multiprocess/connection.py\", line 387, in _recv\n",
      "    chunk = read(handle, remaining)\n",
      "KeyboardInterrupt\n",
      "KeyboardInterrupt\n",
      "  File \"/home/ken/.local/lib/python3.10/site-packages/multiprocess/queues.py\", line 367, in get\n",
      "    with self._rlock:\n",
      "  File \"/home/ken/.local/lib/python3.10/site-packages/multiprocess/synchronize.py\", line 101, in __enter__\n",
      "    return self._semlock.__enter__()\n",
      "KeyboardInterrupt\n",
      "  File \"/home/ken/.local/lib/python3.10/site-packages/multiprocess/pool.py\", line 114, in worker\n",
      "    task = get()\n",
      "  File \"/home/ken/.local/lib/python3.10/site-packages/multiprocess/queues.py\", line 367, in get\n",
      "    with self._rlock:\n",
      "  File \"/home/ken/.local/lib/python3.10/site-packages/multiprocess/synchronize.py\", line 101, in __enter__\n",
      "    return self._semlock.__enter__()\n",
      "KeyboardInterrupt\n",
      "KeyboardInterrupt\n"
     ]
    }
   ],
   "source": [
    "if __name__ == \"__main__\":\n",
    "    if os.path.exists(\"totalfile.txt\"):\n",
    "        os.remove(\"totalfile.txt\") \n",
    "    \n",
    "    start_time = time.perf_counter()\n",
    "\n",
    "    # Creates x number of processes\n",
    "    '''p1 = multiprocessing.Process(target=total(\"hugefile1_100M-1.txt\",\"hugefile2_100M-1.txt\"))\n",
    "    p2 = multiprocessing.Process(target=total(\"hugefile1_100M-2.txt\",\"hugefile2_100M-2.txt\"))\n",
    "    p3 = multiprocessing.Process(target=total(\"hugefile1_100M-3.txt\",\"hugefile2_100M-3.txt\"))\n",
    "    p4 = multiprocessing.Process(target=total(\"hugefile1_100M-4.txt\",\"hugefile2_100M-4.txt\"))\n",
    "    p5 = multiprocessing.Process(target=total(\"hugefile1_100M-5.txt\",\"hugefile2_100M-5.txt\"))\n",
    "    p6 = multiprocessing.Process(target=total(\"hugefile1_100M-6.txt\",\"hugefile2_100M-6.txt\"))\n",
    "    p7 = multiprocessing.Process(target=total(\"hugefile1_100M-7.txt\",\"hugefile2_100M-7.txt\"))\n",
    "    p8 = multiprocessing.Process(target=total(\"hugefile1_100M-8.txt\",\"hugefile2_100M-8.txt\"))\n",
    "    p9 = multiprocessing.Process(target=total(\"hugefile1_100M-9.txt\",\"hugefile2_100M-9.txt\"))\n",
    "    p10 = multiprocessing.Process(target=total(\"hugefile1_100M-10.txt\",\"hugefile2_100M-10.txt\"))'''\n",
    "    \n",
    "    #process_list = [p1,p2,p3,p4,p5,p6,p7,p8,p9,p10]\n",
    "    \n",
    "    # Starts all processes\n",
    "    #for p in process_list:\n",
    "    #    p.start()\n",
    "        \n",
    "    # Forces all processes to finish before finish timer executes\n",
    "    #for p in process_list:\n",
    "    #    p.join()\n",
    "    \n",
    "    pool = multiprocess.Pool(multiprocess.cpu_count())\n",
    "    #pool = multiprocess.Pool(8)\n",
    "    #pool.map(total,[(\"hugefile1.txt\",\"hugefile2.txt\")])\n",
    "    pool.starmap(func=total, iterable=[(\"hugefile1_100M-1.txt\",\"hugefile2_100M-1.txt\"),\n",
    "                                      (\"hugefile1_100M-2.txt\",\"hugefile2_100M-2.txt\"),\n",
    "                                      (\"hugefile1_100M-3.txt\",\"hugefile2_100M-3.txt\"),\n",
    "                                      (\"hugefile1_100M-4.txt\",\"hugefile2_100M-4.txt\"),\n",
    "                                      (\"hugefile1_100M-5.txt\",\"hugefile2_100M-5.txt\"),\n",
    "                                      (\"hugefile1_100M-6.txt\",\"hugefile2_100M-6.txt\"),\n",
    "                                      (\"hugefile1_100M-7.txt\",\"hugefile2_100M-7.txt\"),\n",
    "                                      (\"hugefile1_100M-8.txt\",\"hugefile2_100M-8.txt\"),\n",
    "                                      (\"hugefile1_100M-9.txt\",\"hugefile2_100M-9.txt\"),\n",
    "                                      (\"hugefile1_100M-10.txt\",\"hugefile2_100M-10.txt\")])\n",
    "    \n",
    "    pool.close()\n",
    "    \n",
    "    finish_time = time.perf_counter()\n",
    " \n",
    "    print(f\"Program finished in {round(finish_time-start_time,3)} seconds\")"
   ]
  },
  {
   "cell_type": "code",
   "execution_count": null,
   "id": "5db754bf",
   "metadata": {},
   "outputs": [],
   "source": [
    "pool.close()"
   ]
  },
  {
   "cell_type": "code",
   "execution_count": 37,
   "id": "5c12a635",
   "metadata": {},
   "outputs": [
    {
     "data": {
      "text/plain": [
       "8"
      ]
     },
     "execution_count": 37,
     "metadata": {},
     "output_type": "execute_result"
    }
   ],
   "source": [
    "multiprocessing.cpu_count()"
   ]
  },
  {
   "cell_type": "code",
   "execution_count": 6,
   "id": "13b9a631",
   "metadata": {},
   "outputs": [],
   "source": [
    "import multiprocess\n",
    "import time\n",
    "import os"
   ]
  },
  {
   "cell_type": "code",
   "execution_count": 7,
   "id": "0c7be36c",
   "metadata": {},
   "outputs": [
    {
     "ename": "KeyboardInterrupt",
     "evalue": "",
     "output_type": "error",
     "traceback": [
      "\u001b[0;31m---------------------------------------------------------------------------\u001b[0m",
      "\u001b[0;31mKeyboardInterrupt\u001b[0m                         Traceback (most recent call last)",
      "Cell \u001b[0;32mIn[7], line 8\u001b[0m\n\u001b[1;32m      5\u001b[0m start_time \u001b[38;5;241m=\u001b[39m time\u001b[38;5;241m.\u001b[39mperf_counter()\n\u001b[1;32m      7\u001b[0m \u001b[38;5;66;03m# Creates x number of processes\u001b[39;00m\n\u001b[0;32m----> 8\u001b[0m p1 \u001b[38;5;241m=\u001b[39m multiprocess\u001b[38;5;241m.\u001b[39mProcess(target\u001b[38;5;241m=\u001b[39m\u001b[43mtotal\u001b[49m\u001b[43m(\u001b[49m\u001b[38;5;124;43m\"\u001b[39;49m\u001b[38;5;124;43mhugefile1_100M-1.txt\u001b[39;49m\u001b[38;5;124;43m\"\u001b[39;49m\u001b[43m,\u001b[49m\u001b[38;5;124;43m\"\u001b[39;49m\u001b[38;5;124;43mhugefile2_100M-1.txt\u001b[39;49m\u001b[38;5;124;43m\"\u001b[39;49m\u001b[43m)\u001b[49m)\n\u001b[1;32m      9\u001b[0m p2 \u001b[38;5;241m=\u001b[39m multiprocess\u001b[38;5;241m.\u001b[39mProcess(target\u001b[38;5;241m=\u001b[39mtotal(\u001b[38;5;124m\"\u001b[39m\u001b[38;5;124mhugefile1_100M-2.txt\u001b[39m\u001b[38;5;124m\"\u001b[39m,\u001b[38;5;124m\"\u001b[39m\u001b[38;5;124mhugefile2_100M-2.txt\u001b[39m\u001b[38;5;124m\"\u001b[39m))\n\u001b[1;32m     10\u001b[0m p3 \u001b[38;5;241m=\u001b[39m multiprocess\u001b[38;5;241m.\u001b[39mProcess(target\u001b[38;5;241m=\u001b[39mtotal(\u001b[38;5;124m\"\u001b[39m\u001b[38;5;124mhugefile1_100M-3.txt\u001b[39m\u001b[38;5;124m\"\u001b[39m,\u001b[38;5;124m\"\u001b[39m\u001b[38;5;124mhugefile2_100M-3.txt\u001b[39m\u001b[38;5;124m\"\u001b[39m))\n",
      "Cell \u001b[0;32mIn[2], line 9\u001b[0m, in \u001b[0;36mtotal\u001b[0;34m(file1, file2)\u001b[0m\n\u001b[1;32m      7\u001b[0m \u001b[38;5;28;01mwith\u001b[39;00m \u001b[38;5;28mopen\u001b[39m(file1) \u001b[38;5;28;01mas\u001b[39;00m textfile1, \u001b[38;5;28mopen\u001b[39m(file2) \u001b[38;5;28;01mas\u001b[39;00m textfile2: \n\u001b[1;32m      8\u001b[0m     \u001b[38;5;28;01mfor\u001b[39;00m x, y \u001b[38;5;129;01min\u001b[39;00m \u001b[38;5;28mzip\u001b[39m(textfile1, textfile2):\n\u001b[0;32m----> 9\u001b[0m         x \u001b[38;5;241m=\u001b[39m \u001b[38;5;28mint\u001b[39m(\u001b[43mx\u001b[49m\u001b[38;5;241;43m.\u001b[39;49m\u001b[43mstrip\u001b[49m\u001b[43m(\u001b[49m\u001b[43m)\u001b[49m)\n\u001b[1;32m     10\u001b[0m         y \u001b[38;5;241m=\u001b[39m \u001b[38;5;28mint\u001b[39m(y\u001b[38;5;241m.\u001b[39mstrip())\n\u001b[1;32m     11\u001b[0m         line_sum \u001b[38;5;241m=\u001b[39m x \u001b[38;5;241m+\u001b[39m y\n",
      "\u001b[0;31mKeyboardInterrupt\u001b[0m: "
     ]
    }
   ],
   "source": [
    "if __name__ == \"__main__\":\n",
    "    if os.path.exists(\"totalfile.txt\"):\n",
    "        os.remove(\"totalfile.txt\") \n",
    "    \n",
    "    start_time = time.perf_counter()\n",
    "\n",
    "    # Creates x number of processes\n",
    "    p1 = multiprocess.Process(target=total(\"hugefile1_100M-1.txt\",\"hugefile2_100M-1.txt\"))\n",
    "    p2 = multiprocess.Process(target=total(\"hugefile1_100M-2.txt\",\"hugefile2_100M-2.txt\"))\n",
    "    p3 = multiprocess.Process(target=total(\"hugefile1_100M-3.txt\",\"hugefile2_100M-3.txt\"))\n",
    "    p4 = multiprocess.Process(target=total(\"hugefile1_100M-4.txt\",\"hugefile2_100M-4.txt\"))\n",
    "    p5 = multiprocess.Process(target=total(\"hugefile1_100M-5.txt\",\"hugefile2_100M-5.txt\"))\n",
    "    p6 = multiprocess.Process(target=total(\"hugefile1_100M-6.txt\",\"hugefile2_100M-6.txt\"))\n",
    "    p7 = multiprocess.Process(target=total(\"hugefile1_100M-7.txt\",\"hugefile2_100M-7.txt\"))\n",
    "    p8 = multiprocess.Process(target=total(\"hugefile1_100M-8.txt\",\"hugefile2_100M-8.txt\"))\n",
    "    p9 = multiprocess.Process(target=total(\"hugefile1_100M-9.txt\",\"hugefile2_100M-9.txt\"))\n",
    "    p10 = multiprocess.Process(target=total(\"hugefile1_100M-10.txt\",\"hugefile2_100M-10.txt\"))\n",
    "    \n",
    "    process_list = [p1,p2,p3,p4,p5,p6,p7,p8,p9,p10]\n",
    "    \n",
    "    # Starts all processes\n",
    "    for p in process_list:\n",
    "        p.start()\n",
    "        \n",
    "    # Forces all processes to finish before finish timer executes\n",
    "    for p in process_list:\n",
    "        p.join()\n",
    " \n",
    "    finish_time = time.perf_counter()\n",
    " \n",
    "    print(f\"Program finished in {round(finish_time-start_time,3)} seconds\")"
   ]
  },
  {
   "cell_type": "code",
   "execution_count": 4,
   "id": "69d5cb0f",
   "metadata": {},
   "outputs": [],
   "source": [
    "import threading"
   ]
  },
  {
   "cell_type": "code",
   "execution_count": null,
   "id": "a06adc23",
   "metadata": {},
   "outputs": [],
   "source": [
    "# Python program to illustrate the concept\n",
    "# of threading\n",
    "# importing the threading module\n",
    "import threading\n",
    "\n",
    "\n",
    "def print_cube(num):\n",
    "\t# function to print cube of given num\n",
    "\tprint(\"Cube: {}\" .format(num * num * num))\n",
    "\n",
    "\n",
    "def print_square(num):\n",
    "\t# function to print square of given num\n",
    "\tprint(\"Square: {}\" .format(num * num))\n",
    "\n",
    "\n",
    "if __name__ ==\"__main__\":\n",
    "\t# creating thread\n",
    "\tt1 = threading.Thread(target=print_square, args=(10,))\n",
    "\tt2 = threading.Thread(target=print_cube, args=(10,))\n",
    "\n",
    "\t# starting thread 1\n",
    "\tt1.start()\n",
    "\t# starting thread 2\n",
    "\tt2.start()\n",
    "\n",
    "\t# wait until thread 1 is completely executed\n",
    "\tt1.join()\n",
    "\t# wait until thread 2 is completely executed\n",
    "\tt2.join()\n",
    "\n",
    "\t# both threads completely executed\n",
    "\tprint(\"Done!\")\n"
   ]
  },
  {
   "cell_type": "code",
   "execution_count": 5,
   "id": "9154ff0d",
   "metadata": {},
   "outputs": [
    {
     "name": "stdout",
     "output_type": "stream",
     "text": [
      "Program finished in 1103.455 seconds\n"
     ]
    }
   ],
   "source": [
    "if __name__ == \"__main__\":\n",
    "    if os.path.exists(\"totalfile.txt\"):\n",
    "        os.remove(\"totalfile.txt\") \n",
    "    \n",
    "    start_time = time.perf_counter()\n",
    "\n",
    "    # Creates x number of processes\n",
    "    p1 = threading.Thread(target=total(\"hugefile1_100M-1.txt\",\"hugefile2_100M-1.txt\"))\n",
    "    p2 = threading.Thread(target=total(\"hugefile1_100M-2.txt\",\"hugefile2_100M-2.txt\"))\n",
    "    p3 = threading.Thread(target=total(\"hugefile1_100M-3.txt\",\"hugefile2_100M-3.txt\"))\n",
    "    p4 = threading.Thread(target=total(\"hugefile1_100M-4.txt\",\"hugefile2_100M-4.txt\"))\n",
    "    p5 = threading.Thread(target=total(\"hugefile1_100M-5.txt\",\"hugefile2_100M-5.txt\"))\n",
    "    p6 = threading.Thread(target=total(\"hugefile1_100M-6.txt\",\"hugefile2_100M-6.txt\"))\n",
    "    p7 = threading.Thread(target=total(\"hugefile1_100M-7.txt\",\"hugefile2_100M-7.txt\"))\n",
    "    p8 = threading.Thread(target=total(\"hugefile1_100M-8.txt\",\"hugefile2_100M-8.txt\"))\n",
    "    p9 = threading.Thread(target=total(\"hugefile1_100M-9.txt\",\"hugefile2_100M-9.txt\"))\n",
    "    p10 = threading.Thread(target=total(\"hugefile1_100M-10.txt\",\"hugefile2_100M-10.txt\"))\n",
    "    \n",
    "    process_list = [p1,p2,p3,p4,p5,p6,p7,p8,p9,p10]\n",
    "    \n",
    "    # Starts all processes\n",
    "    for p in process_list:\n",
    "        p.start()\n",
    "        \n",
    "    # Forces all processes to finish before finish timer executes\n",
    "    for p in process_list:\n",
    "        p.join()\n",
    " \n",
    "    finish_time = time.perf_counter()\n",
    " \n",
    "    print(f\"Program finished in {round(finish_time-start_time,3)} seconds\")"
   ]
  },
  {
   "cell_type": "code",
   "execution_count": 1,
   "id": "5c27df7b",
   "metadata": {},
   "outputs": [],
   "source": [
    "import multiprocess\n",
    "import time\n",
    "import os"
   ]
  },
  {
   "cell_type": "code",
   "execution_count": 2,
   "id": "e2417219",
   "metadata": {},
   "outputs": [],
   "source": [
    "def total(file1,file2):\n",
    "    '''CSC507 Mod8. Opens 2 text files, reads line by line, adds each corresponding\n",
    "    line, and outputs to totalfile.txt'''\n",
    "    \n",
    "    newfile = open(\"totalfile.txt\", \"a\")\n",
    "    \n",
    "    with open(file1) as textfile1, open(file2) as textfile2: \n",
    "        for x, y in zip(textfile1, textfile2):\n",
    "            x = int(x.strip())\n",
    "            y = int(y.strip())\n",
    "            line_sum = x + y\n",
    "            newfile.write(str(line_sum))\n",
    "            print(\"\",file=newfile)\n",
    "             \n",
    "    textfile1.close()\n",
    "    textfile2.close()\n",
    "    newfile.close()"
   ]
  },
  {
   "cell_type": "code",
   "execution_count": 3,
   "id": "53e17c8e",
   "metadata": {},
   "outputs": [
    {
     "name": "stdout",
     "output_type": "stream",
     "text": [
      "Program finished in 128.533 seconds\n"
     ]
    }
   ],
   "source": [
    "if __name__ == \"__main__\":\n",
    "    if os.path.exists(\"totalfile.txt\"):\n",
    "        os.remove(\"totalfile.txt\") \n",
    "    \n",
    "    start_time = time.perf_counter()\n",
    "\n",
    "    \n",
    "    pool = multiprocess.Pool(multiprocess.cpu_count())\n",
    "    pool.starmap(func=total, iterable=[(\"hugefile1_100M-1.txt\",\"hugefile2_100M-1.txt\"),\n",
    "                                      (\"hugefile1_100M-2.txt\",\"hugefile2_100M-2.txt\"),\n",
    "                                      (\"hugefile1_100M-3.txt\",\"hugefile2_100M-3.txt\"),\n",
    "                                      (\"hugefile1_100M-4.txt\",\"hugefile2_100M-4.txt\"),\n",
    "                                      (\"hugefile1_100M-5.txt\",\"hugefile2_100M-5.txt\"),\n",
    "                                      (\"hugefile1_100M-6.txt\",\"hugefile2_100M-6.txt\"),\n",
    "                                      (\"hugefile1_100M-7.txt\",\"hugefile2_100M-7.txt\"),\n",
    "                                      (\"hugefile1_100M-8.txt\",\"hugefile2_100M-8.txt\"),\n",
    "                                      (\"hugefile1_100M-9.txt\",\"hugefile2_100M-9.txt\"),\n",
    "                                      (\"hugefile1_100M-10.txt\",\"hugefile2_100M-10.txt\")])\n",
    "    \n",
    "    pool.close()\n",
    "    \n",
    "    finish_time = time.perf_counter()\n",
    " \n",
    "    print(f\"Program finished in {round(finish_time-start_time,3)} seconds\")"
   ]
  },
  {
   "cell_type": "code",
   "execution_count": 4,
   "id": "faf43dc1",
   "metadata": {},
   "outputs": [],
   "source": [
    "import multiprocessing"
   ]
  },
  {
   "cell_type": "code",
   "execution_count": 5,
   "id": "9b03939b",
   "metadata": {},
   "outputs": [
    {
     "name": "stdout",
     "output_type": "stream",
     "text": [
      "Program finished in 122.917 seconds\n"
     ]
    }
   ],
   "source": [
    "if __name__ == \"__main__\":\n",
    "    if os.path.exists(\"totalfile.txt\"):\n",
    "        os.remove(\"totalfile.txt\") \n",
    "    \n",
    "    start_time = time.perf_counter()\n",
    "\n",
    "    \n",
    "    pool = multiprocessing.Pool(multiprocessing.cpu_count())\n",
    "    pool.starmap(func=total, iterable=[(\"hugefile1_100M-1.txt\",\"hugefile2_100M-1.txt\"),\n",
    "                                      (\"hugefile1_100M-2.txt\",\"hugefile2_100M-2.txt\"),\n",
    "                                      (\"hugefile1_100M-3.txt\",\"hugefile2_100M-3.txt\"),\n",
    "                                      (\"hugefile1_100M-4.txt\",\"hugefile2_100M-4.txt\"),\n",
    "                                      (\"hugefile1_100M-5.txt\",\"hugefile2_100M-5.txt\"),\n",
    "                                      (\"hugefile1_100M-6.txt\",\"hugefile2_100M-6.txt\"),\n",
    "                                      (\"hugefile1_100M-7.txt\",\"hugefile2_100M-7.txt\"),\n",
    "                                      (\"hugefile1_100M-8.txt\",\"hugefile2_100M-8.txt\"),\n",
    "                                      (\"hugefile1_100M-9.txt\",\"hugefile2_100M-9.txt\"),\n",
    "                                      (\"hugefile1_100M-10.txt\",\"hugefile2_100M-10.txt\")])\n",
    "    \n",
    "    pool.close()\n",
    "    \n",
    "    finish_time = time.perf_counter()\n",
    " \n",
    "    print(f\"Program finished in {round(finish_time-start_time,3)} seconds\")"
   ]
  },
  {
   "cell_type": "code",
   "execution_count": null,
   "id": "3ac24807",
   "metadata": {},
   "outputs": [],
   "source": []
  }
 ],
 "metadata": {
  "kernelspec": {
   "display_name": "Python 3 (ipykernel)",
   "language": "python",
   "name": "python3"
  },
  "language_info": {
   "codemirror_mode": {
    "name": "ipython",
    "version": 3
   },
   "file_extension": ".py",
   "mimetype": "text/x-python",
   "name": "python",
   "nbconvert_exporter": "python",
   "pygments_lexer": "ipython3",
   "version": "3.10.6"
  }
 },
 "nbformat": 4,
 "nbformat_minor": 5
}
